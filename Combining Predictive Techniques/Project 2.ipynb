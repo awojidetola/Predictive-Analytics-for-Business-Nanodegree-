{
 "cells": [
  {
   "cell_type": "code",
   "execution_count": 283,
   "metadata": {},
   "outputs": [],
   "source": [
    "import pandas as pd\n",
    "import numpy as np\n",
    "import matplotlib.pyplot as plt\n",
    "import seaborn as sns\n",
    "import scipy\n",
    "\n",
    "from sklearn.preprocessing import StandardScaler\n",
    "from sklearn.model_selection import train_test_split\n",
    "from sklearn.tree import DecisionTreeClassifier\n",
    "from sklearn.ensemble import RandomForestClassifier\n",
    "from sklearn.ensemble import GradientBoostingClassifier\n",
    "from sklearn.metrics import plot_confusion_matrix\n",
    "from sklearn.metrics import f1_score\n",
    "from sklearn.decomposition import PCA\n",
    "from sklearn import metrics"
   ]
  },
  {
   "cell_type": "code",
   "execution_count": 284,
   "metadata": {},
   "outputs": [],
   "source": [
    "data1=pd.read_csv(\"storedemographicdata.csv\")\n",
    "data=data1.drop(['Store'],1)"
   ]
  },
  {
   "cell_type": "code",
   "execution_count": 285,
   "metadata": {},
   "outputs": [],
   "source": [
    "pca = PCA(n_components=10)\n",
    "principalComponents = pca.fit_transform(data)\n",
    "principalDf = pd.DataFrame(data = principalComponents\n",
    "             , columns = ['A','B','C','D','E','F','G','H','I','J'])"
   ]
  },
  {
   "cell_type": "code",
   "execution_count": 286,
   "metadata": {},
   "outputs": [
    {
     "data": {
      "text/html": [
       "<div>\n",
       "<style scoped>\n",
       "    .dataframe tbody tr th:only-of-type {\n",
       "        vertical-align: middle;\n",
       "    }\n",
       "\n",
       "    .dataframe tbody tr th {\n",
       "        vertical-align: top;\n",
       "    }\n",
       "\n",
       "    .dataframe thead th {\n",
       "        text-align: right;\n",
       "    }\n",
       "</style>\n",
       "<table border=\"1\" class=\"dataframe\">\n",
       "  <thead>\n",
       "    <tr style=\"text-align: right;\">\n",
       "      <th></th>\n",
       "      <th>A</th>\n",
       "      <th>B</th>\n",
       "      <th>C</th>\n",
       "      <th>D</th>\n",
       "      <th>E</th>\n",
       "      <th>F</th>\n",
       "      <th>G</th>\n",
       "      <th>H</th>\n",
       "      <th>I</th>\n",
       "      <th>J</th>\n",
       "      <th>Cluster</th>\n",
       "    </tr>\n",
       "  </thead>\n",
       "  <tbody>\n",
       "    <tr>\n",
       "      <th>0</th>\n",
       "      <td>-1281.792418</td>\n",
       "      <td>-0.282379</td>\n",
       "      <td>-0.026017</td>\n",
       "      <td>-0.069872</td>\n",
       "      <td>-0.070253</td>\n",
       "      <td>0.080450</td>\n",
       "      <td>-0.063051</td>\n",
       "      <td>-0.043620</td>\n",
       "      <td>-0.055213</td>\n",
       "      <td>-0.028294</td>\n",
       "      <td>3.0</td>\n",
       "    </tr>\n",
       "    <tr>\n",
       "      <th>1</th>\n",
       "      <td>-2481.676027</td>\n",
       "      <td>-0.046027</td>\n",
       "      <td>-0.228332</td>\n",
       "      <td>-0.228092</td>\n",
       "      <td>-0.025086</td>\n",
       "      <td>-0.058609</td>\n",
       "      <td>-0.076057</td>\n",
       "      <td>-0.033312</td>\n",
       "      <td>-0.009372</td>\n",
       "      <td>0.018481</td>\n",
       "      <td>3.0</td>\n",
       "    </tr>\n",
       "    <tr>\n",
       "      <th>2</th>\n",
       "      <td>8198.187246</td>\n",
       "      <td>-0.128783</td>\n",
       "      <td>0.073835</td>\n",
       "      <td>0.183218</td>\n",
       "      <td>-0.034463</td>\n",
       "      <td>0.034740</td>\n",
       "      <td>0.057923</td>\n",
       "      <td>-0.031594</td>\n",
       "      <td>-0.080787</td>\n",
       "      <td>-0.045796</td>\n",
       "      <td>2.0</td>\n",
       "    </tr>\n",
       "    <tr>\n",
       "      <th>3</th>\n",
       "      <td>-2595.368888</td>\n",
       "      <td>-0.127850</td>\n",
       "      <td>-0.040943</td>\n",
       "      <td>-0.037489</td>\n",
       "      <td>-0.108744</td>\n",
       "      <td>-0.006544</td>\n",
       "      <td>0.028417</td>\n",
       "      <td>-0.077333</td>\n",
       "      <td>-0.007535</td>\n",
       "      <td>-0.039552</td>\n",
       "      <td>3.0</td>\n",
       "    </tr>\n",
       "    <tr>\n",
       "      <th>4</th>\n",
       "      <td>6582.004121</td>\n",
       "      <td>0.222667</td>\n",
       "      <td>-0.109055</td>\n",
       "      <td>0.163909</td>\n",
       "      <td>-0.020006</td>\n",
       "      <td>0.090499</td>\n",
       "      <td>-0.031519</td>\n",
       "      <td>0.025314</td>\n",
       "      <td>0.118384</td>\n",
       "      <td>-0.095642</td>\n",
       "      <td>2.0</td>\n",
       "    </tr>\n",
       "    <tr>\n",
       "      <th>...</th>\n",
       "      <td>...</td>\n",
       "      <td>...</td>\n",
       "      <td>...</td>\n",
       "      <td>...</td>\n",
       "      <td>...</td>\n",
       "      <td>...</td>\n",
       "      <td>...</td>\n",
       "      <td>...</td>\n",
       "      <td>...</td>\n",
       "      <td>...</td>\n",
       "      <td>...</td>\n",
       "    </tr>\n",
       "    <tr>\n",
       "      <th>80</th>\n",
       "      <td>1995.152871</td>\n",
       "      <td>0.167944</td>\n",
       "      <td>0.069075</td>\n",
       "      <td>-0.035989</td>\n",
       "      <td>0.055736</td>\n",
       "      <td>-0.004264</td>\n",
       "      <td>0.203270</td>\n",
       "      <td>-0.026717</td>\n",
       "      <td>-0.025664</td>\n",
       "      <td>0.016453</td>\n",
       "      <td>2.0</td>\n",
       "    </tr>\n",
       "    <tr>\n",
       "      <th>81</th>\n",
       "      <td>-4582.175899</td>\n",
       "      <td>-0.055426</td>\n",
       "      <td>-0.281118</td>\n",
       "      <td>-0.012717</td>\n",
       "      <td>-0.175227</td>\n",
       "      <td>-0.038280</td>\n",
       "      <td>0.049473</td>\n",
       "      <td>-0.119962</td>\n",
       "      <td>-0.033745</td>\n",
       "      <td>-0.005327</td>\n",
       "      <td>3.0</td>\n",
       "    </tr>\n",
       "    <tr>\n",
       "      <th>82</th>\n",
       "      <td>623.210479</td>\n",
       "      <td>0.034030</td>\n",
       "      <td>0.120665</td>\n",
       "      <td>-0.076613</td>\n",
       "      <td>-0.092562</td>\n",
       "      <td>0.007041</td>\n",
       "      <td>0.077061</td>\n",
       "      <td>0.033006</td>\n",
       "      <td>0.026702</td>\n",
       "      <td>-0.032546</td>\n",
       "      <td>2.0</td>\n",
       "    </tr>\n",
       "    <tr>\n",
       "      <th>83</th>\n",
       "      <td>1276.160828</td>\n",
       "      <td>0.055911</td>\n",
       "      <td>0.143933</td>\n",
       "      <td>-0.243480</td>\n",
       "      <td>-0.027557</td>\n",
       "      <td>-0.050384</td>\n",
       "      <td>0.072399</td>\n",
       "      <td>0.033703</td>\n",
       "      <td>0.063492</td>\n",
       "      <td>0.044798</td>\n",
       "      <td>3.0</td>\n",
       "    </tr>\n",
       "    <tr>\n",
       "      <th>84</th>\n",
       "      <td>5014.312052</td>\n",
       "      <td>0.155568</td>\n",
       "      <td>-0.189677</td>\n",
       "      <td>-0.132780</td>\n",
       "      <td>-0.024152</td>\n",
       "      <td>0.035353</td>\n",
       "      <td>0.010060</td>\n",
       "      <td>-0.048325</td>\n",
       "      <td>-0.062710</td>\n",
       "      <td>0.038402</td>\n",
       "      <td>2.0</td>\n",
       "    </tr>\n",
       "  </tbody>\n",
       "</table>\n",
       "<p>85 rows × 11 columns</p>\n",
       "</div>"
      ],
      "text/plain": [
       "              A         B         C         D         E         F         G  \\\n",
       "0  -1281.792418 -0.282379 -0.026017 -0.069872 -0.070253  0.080450 -0.063051   \n",
       "1  -2481.676027 -0.046027 -0.228332 -0.228092 -0.025086 -0.058609 -0.076057   \n",
       "2   8198.187246 -0.128783  0.073835  0.183218 -0.034463  0.034740  0.057923   \n",
       "3  -2595.368888 -0.127850 -0.040943 -0.037489 -0.108744 -0.006544  0.028417   \n",
       "4   6582.004121  0.222667 -0.109055  0.163909 -0.020006  0.090499 -0.031519   \n",
       "..          ...       ...       ...       ...       ...       ...       ...   \n",
       "80  1995.152871  0.167944  0.069075 -0.035989  0.055736 -0.004264  0.203270   \n",
       "81 -4582.175899 -0.055426 -0.281118 -0.012717 -0.175227 -0.038280  0.049473   \n",
       "82   623.210479  0.034030  0.120665 -0.076613 -0.092562  0.007041  0.077061   \n",
       "83  1276.160828  0.055911  0.143933 -0.243480 -0.027557 -0.050384  0.072399   \n",
       "84  5014.312052  0.155568 -0.189677 -0.132780 -0.024152  0.035353  0.010060   \n",
       "\n",
       "           H         I         J  Cluster  \n",
       "0  -0.043620 -0.055213 -0.028294      3.0  \n",
       "1  -0.033312 -0.009372  0.018481      3.0  \n",
       "2  -0.031594 -0.080787 -0.045796      2.0  \n",
       "3  -0.077333 -0.007535 -0.039552      3.0  \n",
       "4   0.025314  0.118384 -0.095642      2.0  \n",
       "..       ...       ...       ...      ...  \n",
       "80 -0.026717 -0.025664  0.016453      2.0  \n",
       "81 -0.119962 -0.033745 -0.005327      3.0  \n",
       "82  0.033006  0.026702 -0.032546      2.0  \n",
       "83  0.033703  0.063492  0.044798      3.0  \n",
       "84 -0.048325 -0.062710  0.038402      2.0  \n",
       "\n",
       "[85 rows x 11 columns]"
      ]
     },
     "execution_count": 286,
     "metadata": {},
     "output_type": "execute_result"
    }
   ],
   "source": [
    "Project1=pd.read_csv(\"Cluster.csv\")\n",
    "principalDf['Cluster']=Project1['Cluster']\n",
    "Train_data=principalDf[0:85]\n",
    "Train_data"
   ]
  },
  {
   "cell_type": "code",
   "execution_count": 287,
   "metadata": {},
   "outputs": [],
   "source": [
    "#Project1=pd.read_csv(\"Cluster.csv\")\n",
    "#Project1=Project1.drop(['Unnamed: 0'],1)\n",
    "#PCAdata['Cluster']=Project1['Cluster']\n",
    "#Train_data=PrincipalDf[0:85]\n",
    "#Train_data"
   ]
  },
  {
   "cell_type": "code",
   "execution_count": 288,
   "metadata": {},
   "outputs": [],
   "source": [
    "Test_data=principalDf[85:96]\n",
    "Test_data=Test_data.drop(['Cluster'],1)"
   ]
  },
  {
   "cell_type": "code",
   "execution_count": 289,
   "metadata": {},
   "outputs": [],
   "source": [
    "X=Train_data.drop(['Cluster'],1)\n",
    "y=Train_data['Cluster']"
   ]
  },
  {
   "cell_type": "code",
   "execution_count": 290,
   "metadata": {},
   "outputs": [],
   "source": [
    "scaler=StandardScaler()\n",
    "scaled_X=scaler.fit_transform(X)"
   ]
  },
  {
   "cell_type": "code",
   "execution_count": 291,
   "metadata": {},
   "outputs": [],
   "source": [
    "X_train,X_test,y_train,y_test=train_test_split(scaled_X,y,test_size=0.2,random_state=3)"
   ]
  },
  {
   "cell_type": "code",
   "execution_count": 292,
   "metadata": {},
   "outputs": [
    {
     "name": "stdout",
     "output_type": "stream",
     "text": [
      "Accuracy: 0.7647058823529411\n",
      "F1_Score: 0.7749287749287749\n"
     ]
    }
   ],
   "source": [
    "Decision_Tree=DecisionTreeClassifier()\n",
    "Decision_Tree.fit(X_train,y_train)\n",
    "print ('Accuracy:',Decision_Tree.score(X_test,y_test))\n",
    "y_pred=Decision_Tree.predict(X_test)\n",
    "print ('F1_Score:',f1_score(y_test, y_pred,average='macro'))"
   ]
  },
  {
   "cell_type": "code",
   "execution_count": 293,
   "metadata": {},
   "outputs": [
    {
     "name": "stdout",
     "output_type": "stream",
     "text": [
      "Accuracy:  0.7647058823529411\n",
      "F1 Score: 0.7666666666666666\n"
     ]
    }
   ],
   "source": [
    "Random_Forest=RandomForestClassifier()\n",
    "Random_Forest.fit(X_train,y_train)\n",
    "y_pred=Random_Forest.predict(X_test)\n",
    "print ('Accuracy: ',Random_Forest.score(X_test,y_test))\n",
    "print ('F1 Score:',f1_score(y_test, y_pred,average='macro'))"
   ]
  },
  {
   "cell_type": "code",
   "execution_count": 294,
   "metadata": {},
   "outputs": [
    {
     "name": "stdout",
     "output_type": "stream",
     "text": [
      "Accuracy:  0.8235294117647058\n",
      "F1 Score: 0.8304843304843305\n"
     ]
    }
   ],
   "source": [
    "Gradient_Boost=GradientBoostingClassifier()\n",
    "Gradient_Boost.fit(X_train,y_train)\n",
    "y_pred=Gradient_Boost.predict(X_test)\n",
    "\n",
    "print ('Accuracy: ',Gradient_Boost.score(X_test,y_test))\n",
    "print ('F1 Score:',f1_score(y_test, y_pred,average='macro'))"
   ]
  },
  {
   "cell_type": "code",
   "execution_count": 295,
   "metadata": {},
   "outputs": [
    {
     "data": {
      "text/plain": [
       "<sklearn.metrics._plot.confusion_matrix.ConfusionMatrixDisplay at 0x1fc327dec08>"
      ]
     },
     "execution_count": 295,
     "metadata": {},
     "output_type": "execute_result"
    },
    {
     "data": {
      "image/png": "[encoded data removed]",
      "text/plain": [
       "<Figure size 432x288 with 2 Axes>"
      ]
     },
     "metadata": {
      "needs_background": "light"
     },
     "output_type": "display_data"
    }
   ],
   "source": [
    "plot_confusion_matrix(Decision_Tree,X_test, y_test)"
   ]
  },
  {
   "cell_type": "code",
   "execution_count": 296,
   "metadata": {},
   "outputs": [
    {
     "data": {
      "text/plain": [
       "<sklearn.metrics._plot.confusion_matrix.ConfusionMatrixDisplay at 0x1fc327a7548>"
      ]
     },
     "execution_count": 296,
     "metadata": {},
     "output_type": "execute_result"
    },
    {
     "data": {
      "image/png": "[encoded data removed]",
      "text/plain": [
       "<Figure size 432x288 with 2 Axes>"
      ]
     },
     "metadata": {
      "needs_background": "light"
     },
     "output_type": "display_data"
    }
   ],
   "source": [
    "plot_confusion_matrix(Random_Forest,X_test, y_test)"
   ]
  },
  {
   "cell_type": "code",
   "execution_count": 297,
   "metadata": {},
   "outputs": [
    {
     "data": {
      "text/plain": [
       "<sklearn.metrics._plot.confusion_matrix.ConfusionMatrixDisplay at 0x1fc32853b08>"
      ]
     },
     "execution_count": 297,
     "metadata": {},
     "output_type": "execute_result"
    },
    {
     "data": {
      "image/png": "[encoded data removed]",
      "text/plain": [
       "<Figure size 432x288 with 2 Axes>"
      ]
     },
     "metadata": {
      "needs_background": "light"
     },
     "output_type": "display_data"
    }
   ],
   "source": [
    "plot_confusion_matrix(Gradient_Boost,X_test, y_test)"
   ]
  },
  {
   "cell_type": "code",
   "execution_count": 298,
   "metadata": {
    "scrolled": true
   },
   "outputs": [
    {
     "data": {
      "text/html": [
       "<div>\n",
       "<style scoped>\n",
       "    .dataframe tbody tr th:only-of-type {\n",
       "        vertical-align: middle;\n",
       "    }\n",
       "\n",
       "    .dataframe tbody tr th {\n",
       "        vertical-align: top;\n",
       "    }\n",
       "\n",
       "    .dataframe thead th {\n",
       "        text-align: right;\n",
       "    }\n",
       "</style>\n",
       "<table border=\"1\" class=\"dataframe\">\n",
       "  <thead>\n",
       "    <tr style=\"text-align: right;\">\n",
       "      <th></th>\n",
       "      <th>A</th>\n",
       "      <th>B</th>\n",
       "      <th>C</th>\n",
       "      <th>D</th>\n",
       "      <th>E</th>\n",
       "      <th>F</th>\n",
       "      <th>G</th>\n",
       "      <th>H</th>\n",
       "      <th>I</th>\n",
       "      <th>J</th>\n",
       "    </tr>\n",
       "  </thead>\n",
       "  <tbody>\n",
       "    <tr>\n",
       "      <th>85</th>\n",
       "      <td>-3448.329061</td>\n",
       "      <td>-0.444313</td>\n",
       "      <td>0.429735</td>\n",
       "      <td>0.256011</td>\n",
       "      <td>-0.166993</td>\n",
       "      <td>-0.165879</td>\n",
       "      <td>0.014814</td>\n",
       "      <td>-0.010074</td>\n",
       "      <td>-0.026954</td>\n",
       "      <td>-0.032948</td>\n",
       "    </tr>\n",
       "    <tr>\n",
       "      <th>86</th>\n",
       "      <td>713.991829</td>\n",
       "      <td>0.280419</td>\n",
       "      <td>0.059956</td>\n",
       "      <td>0.005345</td>\n",
       "      <td>-0.001285</td>\n",
       "      <td>-0.008609</td>\n",
       "      <td>0.028487</td>\n",
       "      <td>0.039414</td>\n",
       "      <td>-0.011524</td>\n",
       "      <td>0.004199</td>\n",
       "    </tr>\n",
       "    <tr>\n",
       "      <th>87</th>\n",
       "      <td>2500.826812</td>\n",
       "      <td>-0.164736</td>\n",
       "      <td>0.527181</td>\n",
       "      <td>0.102848</td>\n",
       "      <td>0.146837</td>\n",
       "      <td>-0.023001</td>\n",
       "      <td>0.170541</td>\n",
       "      <td>-0.130472</td>\n",
       "      <td>-0.088289</td>\n",
       "      <td>0.148680</td>\n",
       "    </tr>\n",
       "    <tr>\n",
       "      <th>88</th>\n",
       "      <td>2004.289621</td>\n",
       "      <td>0.306110</td>\n",
       "      <td>0.053187</td>\n",
       "      <td>-0.000371</td>\n",
       "      <td>0.040278</td>\n",
       "      <td>-0.032524</td>\n",
       "      <td>0.178141</td>\n",
       "      <td>0.065935</td>\n",
       "      <td>-0.058502</td>\n",
       "      <td>-0.038990</td>\n",
       "    </tr>\n",
       "    <tr>\n",
       "      <th>89</th>\n",
       "      <td>2078.307835</td>\n",
       "      <td>0.465599</td>\n",
       "      <td>-0.006630</td>\n",
       "      <td>0.146061</td>\n",
       "      <td>0.026307</td>\n",
       "      <td>0.006535</td>\n",
       "      <td>0.006440</td>\n",
       "      <td>-0.005245</td>\n",
       "      <td>-0.005768</td>\n",
       "      <td>-0.005653</td>\n",
       "    </tr>\n",
       "    <tr>\n",
       "      <th>90</th>\n",
       "      <td>-4488.213695</td>\n",
       "      <td>-0.258311</td>\n",
       "      <td>0.086254</td>\n",
       "      <td>0.004733</td>\n",
       "      <td>0.219196</td>\n",
       "      <td>0.022311</td>\n",
       "      <td>-0.063464</td>\n",
       "      <td>0.038249</td>\n",
       "      <td>-0.069816</td>\n",
       "      <td>0.019361</td>\n",
       "    </tr>\n",
       "    <tr>\n",
       "      <th>91</th>\n",
       "      <td>3096.700436</td>\n",
       "      <td>0.252179</td>\n",
       "      <td>-0.051255</td>\n",
       "      <td>-0.148939</td>\n",
       "      <td>0.082459</td>\n",
       "      <td>0.063877</td>\n",
       "      <td>0.209002</td>\n",
       "      <td>0.051804</td>\n",
       "      <td>-0.055218</td>\n",
       "      <td>-0.056276</td>\n",
       "    </tr>\n",
       "    <tr>\n",
       "      <th>92</th>\n",
       "      <td>-2335.298003</td>\n",
       "      <td>-0.087533</td>\n",
       "      <td>0.023568</td>\n",
       "      <td>-0.153997</td>\n",
       "      <td>0.269145</td>\n",
       "      <td>0.071133</td>\n",
       "      <td>-0.074750</td>\n",
       "      <td>0.108067</td>\n",
       "      <td>0.014787</td>\n",
       "      <td>0.053344</td>\n",
       "    </tr>\n",
       "    <tr>\n",
       "      <th>93</th>\n",
       "      <td>-1106.912577</td>\n",
       "      <td>0.448066</td>\n",
       "      <td>-0.185107</td>\n",
       "      <td>-0.002967</td>\n",
       "      <td>-0.035371</td>\n",
       "      <td>0.142964</td>\n",
       "      <td>-0.035922</td>\n",
       "      <td>0.030155</td>\n",
       "      <td>-0.047404</td>\n",
       "      <td>-0.105714</td>\n",
       "    </tr>\n",
       "    <tr>\n",
       "      <th>94</th>\n",
       "      <td>-2878.901995</td>\n",
       "      <td>0.059973</td>\n",
       "      <td>-0.108999</td>\n",
       "      <td>-0.195520</td>\n",
       "      <td>0.030218</td>\n",
       "      <td>0.064549</td>\n",
       "      <td>0.179652</td>\n",
       "      <td>-0.080100</td>\n",
       "      <td>-0.050462</td>\n",
       "      <td>-0.111705</td>\n",
       "    </tr>\n",
       "  </tbody>\n",
       "</table>\n",
       "</div>"
      ],
      "text/plain": [
       "              A         B         C         D         E         F         G  \\\n",
       "85 -3448.329061 -0.444313  0.429735  0.256011 -0.166993 -0.165879  0.014814   \n",
       "86   713.991829  0.280419  0.059956  0.005345 -0.001285 -0.008609  0.028487   \n",
       "87  2500.826812 -0.164736  0.527181  0.102848  0.146837 -0.023001  0.170541   \n",
       "88  2004.289621  0.306110  0.053187 -0.000371  0.040278 -0.032524  0.178141   \n",
       "89  2078.307835  0.465599 -0.006630  0.146061  0.026307  0.006535  0.006440   \n",
       "90 -4488.213695 -0.258311  0.086254  0.004733  0.219196  0.022311 -0.063464   \n",
       "91  3096.700436  0.252179 -0.051255 -0.148939  0.082459  0.063877  0.209002   \n",
       "92 -2335.298003 -0.087533  0.023568 -0.153997  0.269145  0.071133 -0.074750   \n",
       "93 -1106.912577  0.448066 -0.185107 -0.002967 -0.035371  0.142964 -0.035922   \n",
       "94 -2878.901995  0.059973 -0.108999 -0.195520  0.030218  0.064549  0.179652   \n",
       "\n",
       "           H         I         J  \n",
       "85 -0.010074 -0.026954 -0.032948  \n",
       "86  0.039414 -0.011524  0.004199  \n",
       "87 -0.130472 -0.088289  0.148680  \n",
       "88  0.065935 -0.058502 -0.038990  \n",
       "89 -0.005245 -0.005768 -0.005653  \n",
       "90  0.038249 -0.069816  0.019361  \n",
       "91  0.051804 -0.055218 -0.056276  \n",
       "92  0.108067  0.014787  0.053344  \n",
       "93  0.030155 -0.047404 -0.105714  \n",
       "94 -0.080100 -0.050462 -0.111705  "
      ]
     },
     "execution_count": 298,
     "metadata": {},
     "output_type": "execute_result"
    }
   ],
   "source": [
    "Test=principalDf[85:].drop(['Cluster'],1)\n",
    "Test"
   ]
  },
  {
   "cell_type": "code",
   "execution_count": 299,
   "metadata": {},
   "outputs": [
    {
     "data": {
      "text/plain": [
       "array([3., 2., 2., 2., 2., 1., 2., 1., 2., 2.])"
      ]
     },
     "execution_count": 299,
     "metadata": {},
     "output_type": "execute_result"
    }
   ],
   "source": [
    "Prediction=Gradient_Boost.predict(Test)\n",
    "Prediction"
   ]
  },
  {
   "cell_type": "code",
   "execution_count": 300,
   "metadata": {},
   "outputs": [
    {
     "data": {
      "text/html": [
       "<div>\n",
       "<style scoped>\n",
       "    .dataframe tbody tr th:only-of-type {\n",
       "        vertical-align: middle;\n",
       "    }\n",
       "\n",
       "    .dataframe tbody tr th {\n",
       "        vertical-align: top;\n",
       "    }\n",
       "\n",
       "    .dataframe thead th {\n",
       "        text-align: right;\n",
       "    }\n",
       "</style>\n",
       "<table border=\"1\" class=\"dataframe\">\n",
       "  <thead>\n",
       "    <tr style=\"text-align: right;\">\n",
       "      <th></th>\n",
       "      <th>0</th>\n",
       "    </tr>\n",
       "    <tr>\n",
       "      <th>Store</th>\n",
       "      <th></th>\n",
       "    </tr>\n",
       "  </thead>\n",
       "  <tbody>\n",
       "    <tr>\n",
       "      <th>S0086</th>\n",
       "      <td>3.0</td>\n",
       "    </tr>\n",
       "    <tr>\n",
       "      <th>S0087</th>\n",
       "      <td>2.0</td>\n",
       "    </tr>\n",
       "    <tr>\n",
       "      <th>S0088</th>\n",
       "      <td>2.0</td>\n",
       "    </tr>\n",
       "    <tr>\n",
       "      <th>S0089</th>\n",
       "      <td>2.0</td>\n",
       "    </tr>\n",
       "    <tr>\n",
       "      <th>S0090</th>\n",
       "      <td>2.0</td>\n",
       "    </tr>\n",
       "    <tr>\n",
       "      <th>S0091</th>\n",
       "      <td>1.0</td>\n",
       "    </tr>\n",
       "    <tr>\n",
       "      <th>S0092</th>\n",
       "      <td>2.0</td>\n",
       "    </tr>\n",
       "    <tr>\n",
       "      <th>S0093</th>\n",
       "      <td>1.0</td>\n",
       "    </tr>\n",
       "    <tr>\n",
       "      <th>S0094</th>\n",
       "      <td>2.0</td>\n",
       "    </tr>\n",
       "    <tr>\n",
       "      <th>S0095</th>\n",
       "      <td>2.0</td>\n",
       "    </tr>\n",
       "  </tbody>\n",
       "</table>\n",
       "</div>"
      ],
      "text/plain": [
       "         0\n",
       "Store     \n",
       "S0086  3.0\n",
       "S0087  2.0\n",
       "S0088  2.0\n",
       "S0089  2.0\n",
       "S0090  2.0\n",
       "S0091  1.0\n",
       "S0092  2.0\n",
       "S0093  1.0\n",
       "S0094  2.0\n",
       "S0095  2.0"
      ]
     },
     "execution_count": 300,
     "metadata": {},
     "output_type": "execute_result"
    }
   ],
   "source": [
    "Store_Test=data1[85:]\n",
    "New_Stores=Store_Test['Store']\n",
    "Stores_Prediction=pd.DataFrame(Prediction,Store_Test['Store'])\n",
    "Stores_Prediction"
   ]
  },
  {
   "cell_type": "code",
   "execution_count": null,
   "metadata": {},
   "outputs": [],
   "source": []
  }
 ],
 "metadata": {
  "kernelspec": {
   "display_name": "Python 3",
   "language": "python",
   "name": "python3"
  },
  "language_info": {
   "codemirror_mode": {
    "name": "ipython",
    "version": 3
   },
   "file_extension": ".py",
   "mimetype": "text/x-python",
   "name": "python",
   "nbconvert_exporter": "python",
   "pygments_lexer": "ipython3",
   "version": "3.7.4"
  }
 },
 "nbformat": 4,
 "nbformat_minor": 2
}
