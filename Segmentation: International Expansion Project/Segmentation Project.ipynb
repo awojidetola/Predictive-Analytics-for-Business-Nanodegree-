{
 "cells": [
  {
   "cell_type": "markdown",
   "metadata": {},
   "source": [
    "### Importing Important Libraries"
   ]
  },
  {
   "cell_type": "code",
   "execution_count": 106,
   "metadata": {},
   "outputs": [],
   "source": [
    "import pandas as pd\n",
    "import numpy as np\n",
    "import matplotlib as pyplot\n",
    "import seaborn as sns\n",
    "from scipy.spatial.distance import cdist\n",
    "\n",
    "from sklearn.decomposition import PCA\n",
    "from sklearn.preprocessing import MinMaxScaler, StandardScaler\n",
    "from sklearn.cluster import KMeans\n",
    "from sklearn import metrics\n",
    "\n",
    "\n",
    "import warnings\n",
    "warnings.filterwarnings(\"ignore\")\n",
    "\n",
    "%matplotlib inline"
   ]
  },
  {
   "cell_type": "code",
   "execution_count": 107,
   "metadata": {},
   "outputs": [],
   "source": [
    "df = pd.read_csv(\"country-data.csv\",encoding='latin1')"
   ]
  },
  {
   "cell_type": "markdown",
   "metadata": {},
   "source": [
    "### Data Cleaning"
   ]
  },
  {
   "cell_type": "code",
   "execution_count": 108,
   "metadata": {},
   "outputs": [],
   "source": [
    "Missing = 'Saint Maarten'\n",
    "df['Country Name'] = df['Country Name'].fillna(Missing)\n",
    "df = df.drop(['Country Code','Table Name','Long Name'],1)"
   ]
  },
  {
   "cell_type": "code",
   "execution_count": 109,
   "metadata": {},
   "outputs": [],
   "source": [
    "country_data = df.set_index(\"Country Name\").transpose()\n",
    "null_values = country_data.isnull().sum()\n",
    "more_than_25 = list(null_values[null_values >=25].index)"
   ]
  },
  {
   "cell_type": "code",
   "execution_count": 110,
   "metadata": {},
   "outputs": [],
   "source": [
    "country_data = country_data.drop(more_than_25, axis=1)"
   ]
  },
  {
   "cell_type": "code",
   "execution_count": 111,
   "metadata": {},
   "outputs": [
    {
     "data": {
      "text/plain": [
       "(76, 144)"
      ]
     },
     "execution_count": 111,
     "metadata": {},
     "output_type": "execute_result"
    }
   ],
   "source": [
    "country_data.shape"
   ]
  },
  {
   "cell_type": "code",
   "execution_count": 112,
   "metadata": {},
   "outputs": [
    {
     "data": {
      "text/plain": [
       "(67, 144)"
      ]
     },
     "execution_count": 112,
     "metadata": {},
     "output_type": "execute_result"
    }
   ],
   "source": [
    "unneded_indicators=['IT_NET_USER_P2', 'SH_DYN_AIDS_ZS','SH_DYN_MORT','SH_MED_PHYS_ZS','SH_XPD_PCAP','SN_ITK_DEFC_ZS','SP_POP_DPND','SG_VAW_BURN_ZS','SH_TBS_PREV']\n",
    "country_data = country_data.drop(unneded_indicators, axis=0)\n",
    "country_data.shape"
   ]
  },
  {
   "cell_type": "markdown",
   "metadata": {},
   "source": [
    "### Data Preprocessing"
   ]
  },
  {
   "cell_type": "markdown",
   "metadata": {},
   "source": [
    "Similar columns are 'combined' using Principal Component Analysis to reduce the dimensionality of the data. Before PCA, the dataset is transformed using Standard Scaler because PCA is sensitive to unscaled data.\n",
    "\n",
    "+ Education Average Years\n",
    "+ Education Percentage\n",
    "+ Education Literacy\n",
    "\n",
    "For education, the primary column used is Education Average Years because the other variables have a lot of missing data which could lead to data bias."
   ]
  },
  {
   "cell_type": "code",
   "execution_count": 113,
   "metadata": {},
   "outputs": [],
   "source": [
    "data = country_data.T"
   ]
  },
  {
   "cell_type": "code",
   "execution_count": 114,
   "metadata": {},
   "outputs": [],
   "source": [
    "education_avg_years = data.loc[:,'BAR_SCHL_1519':'BAR_SCHL_75UP_FE']\n",
    "education_pct = data.loc[:,'UIS_EA_1_AG25T99':'UIS_EA_8_AG25T99']\n",
    "literacy = data.loc[:,'SE_ADT_1524_LT_FE_ZS':'SE_ADT_LITR_ZS']"
   ]
  },
  {
   "cell_type": "code",
   "execution_count": 115,
   "metadata": {},
   "outputs": [
    {
     "data": {
      "text/plain": [
       "UIS_EA_1_AG25T99       40\n",
       "UIS_EA_1T6_AG25T99     51\n",
       "UIS_EA_2_AG25T99       35\n",
       "UIS_EA_2T6_AG25T99     39\n",
       "UIS_EA_3_AG25T99       35\n",
       "UIS_EA_3T6_AG25T99     35\n",
       "UIS_EA_4_AG25T99       67\n",
       "UIS_EA_4T6_AG25T99     65\n",
       "UIS_EA_5_AG25T99       97\n",
       "UIS_EA_5T8_AG25T99     40\n",
       "UIS_EA_6_AG25T99       42\n",
       "UIS_EA_6T8_AG25T99    100\n",
       "UIS_EA_7_AG25T99      104\n",
       "UIS_EA_7T8_AG25T99    106\n",
       "UIS_EA_8_AG25T99      112\n",
       "dtype: int64"
      ]
     },
     "metadata": {},
     "output_type": "display_data"
    },
    {
     "data": {
      "text/plain": [
       "SE_ADT_1524_LT_FE_ZS    24\n",
       "SE_ADT_1524_LT_FM_ZS    24\n",
       "SE_ADT_1524_LT_MA_ZS    24\n",
       "SE_ADT_1524_LT_ZS       23\n",
       "SE_ADT_LITR_FE_ZS       24\n",
       "SE_ADT_LITR_MA_ZS       24\n",
       "SE_ADT_LITR_ZS          24\n",
       "dtype: int64"
      ]
     },
     "metadata": {},
     "output_type": "display_data"
    }
   ],
   "source": [
    "#The education_pct and literacy columns have a lot of missing country data\n",
    "display(education_pct.isnull().sum())\n",
    "display(literacy.isnull().sum())"
   ]
  },
  {
   "cell_type": "code",
   "execution_count": 116,
   "metadata": {},
   "outputs": [],
   "source": [
    "literacy = literacy.fillna(literacy.median())"
   ]
  },
  {
   "cell_type": "code",
   "execution_count": 117,
   "metadata": {},
   "outputs": [],
   "source": [
    "#For refrence the column names for each category were save in lists.\n",
    "\n",
    "list_a = list(data.loc[:,'BAR_SCHL_1519':'BAR_SCHL_75UP_FE'].columns)\n",
    "list_b = list(data.loc[:,'UIS_EA_1_AG25T99':'UIS_EA_8_AG25T99'].columns)\n",
    "list_c = list(data.loc[:,'SE_ADT_1524_LT_FE_ZS':'SE_ADT_LITR_ZS'].columns)"
   ]
  },
  {
   "cell_type": "code",
   "execution_count": 119,
   "metadata": {},
   "outputs": [],
   "source": [
    "standard = StandardScaler()\n",
    "avg_years_scaled = standard.fit_transform(education_avg_years)\n",
    "lit_scaled = standard.fit_transform(literacy)"
   ]
  },
  {
   "cell_type": "code",
   "execution_count": 120,
   "metadata": {},
   "outputs": [
    {
     "data": {
      "image/png": "[encoded data removed]",
      "text/plain": [
       "<Figure size 720x432 with 1 Axes>"
      ]
     },
     "metadata": {
      "needs_background": "light"
     },
     "output_type": "display_data"
    }
   ],
   "source": [
    "'''\n",
    "This is used to find the optimum number of components for PCA of Average years education category\n",
    "\n",
    "'''\n",
    "pca = PCA().fit(avg_years_scaled)\n",
    "\n",
    "import matplotlib.pyplot as plt\n",
    "plt.rcParams[\"figure.figsize\"] = (10,6)\n",
    "\n",
    "fig, ax = plt.subplots()\n",
    "xi = np.arange(1, 31, step=1)\n",
    "y = np.cumsum(pca.explained_variance_ratio_)\n",
    "\n",
    "plt.ylim(0.0,1.1)\n",
    "plt.plot(xi, y, marker='o', linestyle='--', color='c')\n",
    "\n",
    "plt.xlabel('Number of Components')\n",
    "plt.xticks(np.arange(0, 31, step=1)) #change from 0-based array index to 1-based human-readable label\n",
    "plt.ylabel('Cumulative variance (%)')\n",
    "plt.title('Education Average Years')\n",
    "\n",
    "plt.axhline(y=0.95, color='r', linestyle='-')\n",
    "plt.text(0.5, 0.85, '95% cut-off threshold', color = 'black', fontsize=12)\n",
    "\n",
    "ax.grid(axis='x')\n",
    "plt.show()"
   ]
  },
  {
   "cell_type": "code",
   "execution_count": 122,
   "metadata": {},
   "outputs": [
    {
     "data": {
      "image/png": "[encoded data removed]",
      "text/plain": [
       "<Figure size 720x432 with 1 Axes>"
      ]
     },
     "metadata": {
      "needs_background": "light"
     },
     "output_type": "display_data"
    }
   ],
   "source": [
    "'''\n",
    "This is used to find the optimum number of components for PCA of Literacy education category\n",
    "\n",
    "'''\n",
    "pca = PCA().fit(lit_scaled)\n",
    "\n",
    "import matplotlib.pyplot as plt\n",
    "plt.rcParams[\"figure.figsize\"] = (10,6)\n",
    "\n",
    "fig, ax = plt.subplots()\n",
    "xi = np.arange(1, 8, step=1)\n",
    "y = np.cumsum(pca.explained_variance_ratio_)\n",
    "\n",
    "plt.ylim(0.0,1.1)\n",
    "plt.plot(xi, y, marker='o', linestyle='--', color='c')\n",
    "\n",
    "plt.xlabel('Number of Components')\n",
    "plt.xticks(np.arange(0, 8, step=1)) #change from 0-based array index to 1-based human-readable label\n",
    "plt.ylabel('Cumulative variance (%)')\n",
    "plt.title('Education Average Years')\n",
    "\n",
    "plt.axhline(y=0.95, color='r', linestyle='-')\n",
    "plt.text(0.5, 0.85, '95% cut-off threshold', color = 'black', fontsize=12)\n",
    "\n",
    "ax.grid(axis='x')\n",
    "plt.show()"
   ]
  },
  {
   "cell_type": "code",
   "execution_count": 123,
   "metadata": {},
   "outputs": [],
   "source": [
    "countries = data.index\n",
    "pca = PCA(n_components=2)\n",
    "avg_years_pca = pca.fit_transform(avg_years_scaled)\n",
    "avg_years_pca = pd.DataFrame(avg_years_pca, columns=['AVG YEARS 1','AVG YEARS 2'], index = countries)"
   ]
  },
  {
   "cell_type": "code",
   "execution_count": 124,
   "metadata": {},
   "outputs": [],
   "source": [
    "pca = PCA(n_components=2)\n",
    "lit_pca = pca.fit_transform(lit_scaled)\n",
    "lit_pca = pd.DataFrame(lit_pca, columns=['LIT 1','LIT 2'], index = countries)"
   ]
  },
  {
   "cell_type": "code",
   "execution_count": 125,
   "metadata": {},
   "outputs": [],
   "source": [
    "data = data.drop(list_a+list_b+list_c,1)"
   ]
  },
  {
   "cell_type": "code",
   "execution_count": 126,
   "metadata": {},
   "outputs": [
    {
     "data": {
      "text/plain": [
       "EG_ELC_ACCS_ZS           0\n",
       "EN_POP_SLUM_UR_ZS       63\n",
       "FB_ATM_TOTL_P5           4\n",
       "IC_ELC_TIME              2\n",
       "IC_FRM_ISOC_ZS          36\n",
       "IC_TAX_TOTL_CP_ZS        2\n",
       "IQ_WEF_PORT_XQ          14\n",
       "SE_XPD_TOTL_GD_ZS        0\n",
       "SL_EMP_TOTL_SP_ZS        1\n",
       "SL_TLF_SECO_ZS          40\n",
       "SL_TLF_TOTL_IN           0\n",
       "TM_TAX_MANF_SM_FN_ZS     1\n",
       "UIS_PTRHC_2             23\n",
       "UIS_PTRHC_3             25\n",
       "UIS_PTRHC_56             2\n",
       "dtype: int64"
      ]
     },
     "metadata": {},
     "output_type": "display_data"
    }
   ],
   "source": [
    "display(data.isnull().sum())\n",
    "\n",
    "data = data.drop(['EN_POP_SLUM_UR_ZS','IC_FRM_ISOC_ZS','SL_TLF_SECO_ZS'],1)\n",
    "data = data.fillna(data.median())"
   ]
  },
  {
   "cell_type": "code",
   "execution_count": 128,
   "metadata": {},
   "outputs": [],
   "source": [
    "data = standard.fit_transform(data)\n",
    "data = pd.DataFrame(data, columns = ['variable 1','variable 2','variable 3','variable 4','variable 5','variable 6',\n",
    "                            'variable 7','variable 8','variable 9', 'variable 10','variable 11', 'variable 12'], index=countries)"
   ]
  },
  {
   "cell_type": "code",
   "execution_count": 129,
   "metadata": {},
   "outputs": [],
   "source": [
    "data['variable 13'] = avg_years_pca['AVG YEARS 1']\n",
    "data['variable 14'] = avg_years_pca['AVG YEARS 2']"
   ]
  },
  {
   "cell_type": "code",
   "execution_count": 130,
   "metadata": {},
   "outputs": [],
   "source": [
    "data['variable 13'] = lit_pca['LIT 1']\n",
    "data['variable 14'] = lit_pca['LIT 2']"
   ]
  },
  {
   "cell_type": "code",
   "execution_count": 136,
   "metadata": {},
   "outputs": [],
   "source": [
    "X = np.asarray(data)"
   ]
  },
  {
   "cell_type": "markdown",
   "metadata": {},
   "source": [
    "### K Means"
   ]
  },
  {
   "cell_type": "code",
   "execution_count": 141,
   "metadata": {},
   "outputs": [],
   "source": [
    "distortions = []\n",
    "inertias = []\n",
    "K = range(1, 10)\n",
    "\n",
    "for k in K:\n",
    "# Building and fitting the model\n",
    "    kmeanModel = KMeans(n_clusters=k).fit(X)\n",
    "    kmeanModel.fit(X)\n",
    "\n",
    "    distortions.append(sum(np.min(cdist(X, kmeanModel.cluster_centers_,'euclidean'), axis=1)) / X.shape[0])\n",
    "    inertias.append(kmeanModel.inertia_)"
   ]
  },
  {
   "cell_type": "code",
   "execution_count": 142,
   "metadata": {},
   "outputs": [
    {
     "data": {
      "image/png": "[encoded data removed]",
      "text/plain": [
       "<Figure size 720x432 with 1 Axes>"
      ]
     },
     "metadata": {
      "needs_background": "light"
     },
     "output_type": "display_data"
    }
   ],
   "source": [
    "plt.plot(K, inertias, 'bx-')\n",
    "plt.xlabel('Values of K')\n",
    "plt.ylabel('Inertia')\n",
    "plt.title('The Elbow Method using Inertia')\n",
    "plt.show()"
   ]
  },
  {
   "cell_type": "code",
   "execution_count": 169,
   "metadata": {},
   "outputs": [
    {
     "data": {
      "image/png": "[encoded data removed]",
      "text/plain": [
       "<Figure size 576x396 with 2 Axes>"
      ]
     },
     "metadata": {},
     "output_type": "display_data"
    },
    {
     "data": {
      "text/plain": [
       "<matplotlib.axes._subplots.AxesSubplot at 0x1fa91400308>"
      ]
     },
     "execution_count": 169,
     "metadata": {},
     "output_type": "execute_result"
    }
   ],
   "source": [
    "from yellowbrick.cluster import KElbowVisualizer\n",
    "model = KMeans(random_state=0)\n",
    "# k is range of number of clusters.\n",
    "visualizer = KElbowVisualizer(model, k=(2,6),metric='calinski_harabasz', timings= True)\n",
    "visualizer.fit(X)        # Fit the data to the visualizer\n",
    "visualizer.show()     "
   ]
  },
  {
   "cell_type": "code",
   "execution_count": 191,
   "metadata": {},
   "outputs": [
    {
     "data": {
      "text/plain": [
       "array([1, 0, 2, 0, 0, 2, 2, 3, 2, 1, 3, 2, 2, 0, 0, 0, 2, 2, 0, 1, 2, 2,\n",
       "       2, 0, 1, 3, 3, 0, 0, 2, 2, 0, 2, 2, 0, 0, 0, 0, 2, 2, 2, 0, 2, 0,\n",
       "       2, 3, 3, 2, 0, 0, 2, 2, 2, 3, 0, 0, 3, 2, 0, 0, 2, 2, 0, 0, 0, 2,\n",
       "       0, 3, 0, 3, 2, 2, 3, 1, 0, 0, 3, 2, 2, 2, 2, 0, 0, 0, 0, 1, 2, 3,\n",
       "       0, 3, 1, 2, 3, 2, 3, 1, 3, 2, 2, 3, 2, 3, 2, 0, 0, 3, 2, 2, 0, 2,\n",
       "       0, 2, 3, 2, 3, 3, 2, 1, 0, 0, 0, 2, 2, 0, 0, 3, 2, 0, 0, 2, 0, 0,\n",
       "       3, 3, 0, 2, 2, 0, 0, 3, 0, 3, 3, 3])"
      ]
     },
     "execution_count": 191,
     "metadata": {},
     "output_type": "execute_result"
    }
   ],
   "source": [
    "kmeans = KMeans(n_clusters = 4, random_state = 0).fit(X)\n",
    "kmeans.labels_"
   ]
  },
  {
   "cell_type": "code",
   "execution_count": 192,
   "metadata": {},
   "outputs": [],
   "source": [
    "result = pd.Series(kmeans.labels_, index=countries)"
   ]
  },
  {
   "cell_type": "code",
   "execution_count": 197,
   "metadata": {},
   "outputs": [
    {
     "data": {
      "text/plain": [
       "Country Name\n",
       "United Arab Emirates    2\n",
       "Australia               2\n",
       "Austria                 2\n",
       "Belgium                 2\n",
       "Bulgaria                2\n",
       "Bahrain                 2\n",
       "Barbados                2\n",
       "Brunei Darussalam       2\n",
       "Canada                  2\n",
       "Switzerland             2\n",
       "Chile                   2\n",
       "Cuba                    2\n",
       "Cyprus                  2\n",
       "Germany                 2\n",
       "Denmark                 2\n",
       "Spain                   2\n",
       "Estonia                 2\n",
       "Finland                 2\n",
       "France                  2\n",
       "United Kingdom          2\n",
       "Greece                  2\n",
       "Hong Kong SAR, China    2\n",
       "Honduras                2\n",
       "Croatia                 2\n",
       "Ireland                 2\n",
       "Iceland                 2\n",
       "Israel                  2\n",
       "Japan                   2\n",
       "Korea, Rep.             2\n",
       "Kuwait                  2\n",
       "Lithuania               2\n",
       "Luxembourg              2\n",
       "Latvia                  2\n",
       "Macao SAR, China        2\n",
       "Malta                   2\n",
       "Mauritius               2\n",
       "Malaysia                2\n",
       "Netherlands             2\n",
       "Norway                  2\n",
       "New Zealand             2\n",
       "Panama                  2\n",
       "Poland                  2\n",
       "Portugal                2\n",
       "Qatar                   2\n",
       "Russian Federation      2\n",
       "Saudi Arabia            2\n",
       "Singapore               2\n",
       "Slovenia                2\n",
       "Sweden                  2\n",
       "Thailand                2\n",
       "Trinidad and Tobago     2\n",
       "Uruguay                 2\n",
       "United States           2\n",
       "dtype: int32"
      ]
     },
     "execution_count": 197,
     "metadata": {},
     "output_type": "execute_result"
    }
   ],
   "source": [
    "result[result==2]"
   ]
  }
 ],
 "metadata": {
  "kernelspec": {
   "display_name": "Python 3",
   "language": "python",
   "name": "python3"
  },
  "language_info": {
   "codemirror_mode": {
    "name": "ipython",
    "version": 3
   },
   "file_extension": ".py",
   "mimetype": "text/x-python",
   "name": "python",
   "nbconvert_exporter": "python",
   "pygments_lexer": "ipython3",
   "version": "3.7.4"
  }
 },
 "nbformat": 4,
 "nbformat_minor": 2
}
