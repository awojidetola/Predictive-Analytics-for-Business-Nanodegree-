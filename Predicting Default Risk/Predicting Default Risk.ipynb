{
 "cells": [
  {
   "cell_type": "markdown",
   "metadata": {},
   "source": [
    "#### Importing Libraries"
   ]
  },
  {
   "cell_type": "code",
   "execution_count": 1,
   "metadata": {},
   "outputs": [],
   "source": [
    "import pandas as pd\n",
    "import numpy as np\n",
    "import scipy\n",
    "\n",
    "import matplotlib.pyplot as plt\n",
    "import seaborn as sns\n",
    "\n",
    "from sklearn.model_selection import train_test_split\n",
    "from sklearn.linear_model import LogisticRegression\n",
    "from sklearn.tree import DecisionTreeClassifier\n",
    "from sklearn.ensemble import GradientBoostingClassifier, RandomForestClassifier\n",
    "from sklearn.metrics import plot_confusion_matrix\n",
    "from sklearn import metrics"
   ]
  },
  {
   "cell_type": "markdown",
   "metadata": {},
   "source": [
    "#### Viewing the Data"
   ]
  },
  {
   "cell_type": "code",
   "execution_count": 118,
   "metadata": {},
   "outputs": [],
   "source": [
    "df=pd.read_excel(\"credit-data-training.xlsx\")"
   ]
  },
  {
   "cell_type": "code",
   "execution_count": 119,
   "metadata": {},
   "outputs": [
    {
     "data": {
      "text/html": [
       "<div>\n",
       "<style scoped>\n",
       "    .dataframe tbody tr th:only-of-type {\n",
       "        vertical-align: middle;\n",
       "    }\n",
       "\n",
       "    .dataframe tbody tr th {\n",
       "        vertical-align: top;\n",
       "    }\n",
       "\n",
       "    .dataframe thead th {\n",
       "        text-align: right;\n",
       "    }\n",
       "</style>\n",
       "<table border=\"1\" class=\"dataframe\">\n",
       "  <thead>\n",
       "    <tr style=\"text-align: right;\">\n",
       "      <th></th>\n",
       "      <th>Credit-Application-Result</th>\n",
       "      <th>Account-Balance</th>\n",
       "      <th>Duration-of-Credit-Month</th>\n",
       "      <th>Payment-Status-of-Previous-Credit</th>\n",
       "      <th>Purpose</th>\n",
       "      <th>Credit-Amount</th>\n",
       "      <th>Value-Savings-Stocks</th>\n",
       "      <th>Length-of-current-employment</th>\n",
       "      <th>Instalment-per-cent</th>\n",
       "      <th>Guarantors</th>\n",
       "      <th>Duration-in-Current-address</th>\n",
       "      <th>Most-valuable-available-asset</th>\n",
       "      <th>Age-years</th>\n",
       "      <th>Concurrent-Credits</th>\n",
       "      <th>Type-of-apartment</th>\n",
       "      <th>No-of-Credits-at-this-Bank</th>\n",
       "      <th>Occupation</th>\n",
       "      <th>No-of-dependents</th>\n",
       "      <th>Telephone</th>\n",
       "      <th>Foreign-Worker</th>\n",
       "    </tr>\n",
       "  </thead>\n",
       "  <tbody>\n",
       "    <tr>\n",
       "      <th>0</th>\n",
       "      <td>Creditworthy</td>\n",
       "      <td>Some Balance</td>\n",
       "      <td>4</td>\n",
       "      <td>Paid Up</td>\n",
       "      <td>Other</td>\n",
       "      <td>1494</td>\n",
       "      <td>£100-£1000</td>\n",
       "      <td>&lt; 1yr</td>\n",
       "      <td>1</td>\n",
       "      <td>None</td>\n",
       "      <td>2.0</td>\n",
       "      <td>1</td>\n",
       "      <td>NaN</td>\n",
       "      <td>Other Banks/Depts</td>\n",
       "      <td>2</td>\n",
       "      <td>1</td>\n",
       "      <td>1</td>\n",
       "      <td>2</td>\n",
       "      <td>1</td>\n",
       "      <td>2</td>\n",
       "    </tr>\n",
       "    <tr>\n",
       "      <th>1</th>\n",
       "      <td>Creditworthy</td>\n",
       "      <td>Some Balance</td>\n",
       "      <td>4</td>\n",
       "      <td>Paid Up</td>\n",
       "      <td>Home Related</td>\n",
       "      <td>1494</td>\n",
       "      <td>£100-£1000</td>\n",
       "      <td>&lt; 1yr</td>\n",
       "      <td>1</td>\n",
       "      <td>None</td>\n",
       "      <td>2.0</td>\n",
       "      <td>1</td>\n",
       "      <td>29.0</td>\n",
       "      <td>Other Banks/Depts</td>\n",
       "      <td>2</td>\n",
       "      <td>1</td>\n",
       "      <td>1</td>\n",
       "      <td>2</td>\n",
       "      <td>1</td>\n",
       "      <td>2</td>\n",
       "    </tr>\n",
       "    <tr>\n",
       "      <th>2</th>\n",
       "      <td>Creditworthy</td>\n",
       "      <td>Some Balance</td>\n",
       "      <td>4</td>\n",
       "      <td>No Problems (in this bank)</td>\n",
       "      <td>Home Related</td>\n",
       "      <td>1544</td>\n",
       "      <td>None</td>\n",
       "      <td>1-4 yrs</td>\n",
       "      <td>2</td>\n",
       "      <td>None</td>\n",
       "      <td>1.0</td>\n",
       "      <td>1</td>\n",
       "      <td>42.0</td>\n",
       "      <td>Other Banks/Depts</td>\n",
       "      <td>2</td>\n",
       "      <td>More than 1</td>\n",
       "      <td>1</td>\n",
       "      <td>2</td>\n",
       "      <td>1</td>\n",
       "      <td>1</td>\n",
       "    </tr>\n",
       "    <tr>\n",
       "      <th>3</th>\n",
       "      <td>Creditworthy</td>\n",
       "      <td>Some Balance</td>\n",
       "      <td>4</td>\n",
       "      <td>No Problems (in this bank)</td>\n",
       "      <td>Home Related</td>\n",
       "      <td>3380</td>\n",
       "      <td>None</td>\n",
       "      <td>1-4 yrs</td>\n",
       "      <td>1</td>\n",
       "      <td>None</td>\n",
       "      <td>1.0</td>\n",
       "      <td>1</td>\n",
       "      <td>37.0</td>\n",
       "      <td>Other Banks/Depts</td>\n",
       "      <td>2</td>\n",
       "      <td>1</td>\n",
       "      <td>1</td>\n",
       "      <td>2</td>\n",
       "      <td>1</td>\n",
       "      <td>1</td>\n",
       "    </tr>\n",
       "    <tr>\n",
       "      <th>4</th>\n",
       "      <td>Creditworthy</td>\n",
       "      <td>No Account</td>\n",
       "      <td>6</td>\n",
       "      <td>Paid Up</td>\n",
       "      <td>Home Related</td>\n",
       "      <td>343</td>\n",
       "      <td>None</td>\n",
       "      <td>&lt; 1yr</td>\n",
       "      <td>4</td>\n",
       "      <td>None</td>\n",
       "      <td>1.0</td>\n",
       "      <td>1</td>\n",
       "      <td>27.0</td>\n",
       "      <td>Other Banks/Depts</td>\n",
       "      <td>2</td>\n",
       "      <td>1</td>\n",
       "      <td>1</td>\n",
       "      <td>1</td>\n",
       "      <td>1</td>\n",
       "      <td>1</td>\n",
       "    </tr>\n",
       "  </tbody>\n",
       "</table>\n",
       "</div>"
      ],
      "text/plain": [
       "  Credit-Application-Result Account-Balance  Duration-of-Credit-Month  \\\n",
       "0              Creditworthy    Some Balance                         4   \n",
       "1              Creditworthy    Some Balance                         4   \n",
       "2              Creditworthy    Some Balance                         4   \n",
       "3              Creditworthy    Some Balance                         4   \n",
       "4              Creditworthy      No Account                         6   \n",
       "\n",
       "  Payment-Status-of-Previous-Credit       Purpose  Credit-Amount  \\\n",
       "0                           Paid Up         Other           1494   \n",
       "1                           Paid Up  Home Related           1494   \n",
       "2        No Problems (in this bank)  Home Related           1544   \n",
       "3        No Problems (in this bank)  Home Related           3380   \n",
       "4                           Paid Up  Home Related            343   \n",
       "\n",
       "  Value-Savings-Stocks Length-of-current-employment  Instalment-per-cent  \\\n",
       "0           £100-£1000                        < 1yr                    1   \n",
       "1           £100-£1000                        < 1yr                    1   \n",
       "2                 None                      1-4 yrs                    2   \n",
       "3                 None                      1-4 yrs                    1   \n",
       "4                 None                        < 1yr                    4   \n",
       "\n",
       "  Guarantors  Duration-in-Current-address  Most-valuable-available-asset  \\\n",
       "0       None                          2.0                              1   \n",
       "1       None                          2.0                              1   \n",
       "2       None                          1.0                              1   \n",
       "3       None                          1.0                              1   \n",
       "4       None                          1.0                              1   \n",
       "\n",
       "   Age-years Concurrent-Credits  Type-of-apartment No-of-Credits-at-this-Bank  \\\n",
       "0        NaN  Other Banks/Depts                  2                          1   \n",
       "1       29.0  Other Banks/Depts                  2                          1   \n",
       "2       42.0  Other Banks/Depts                  2                More than 1   \n",
       "3       37.0  Other Banks/Depts                  2                          1   \n",
       "4       27.0  Other Banks/Depts                  2                          1   \n",
       "\n",
       "   Occupation  No-of-dependents  Telephone  Foreign-Worker  \n",
       "0           1                 2          1               2  \n",
       "1           1                 2          1               2  \n",
       "2           1                 2          1               1  \n",
       "3           1                 2          1               1  \n",
       "4           1                 1          1               1  "
      ]
     },
     "execution_count": 119,
     "metadata": {},
     "output_type": "execute_result"
    }
   ],
   "source": [
    "df.head()"
   ]
  },
  {
   "cell_type": "markdown",
   "metadata": {},
   "source": [
    "#### Data Preparation"
   ]
  },
  {
   "cell_type": "code",
   "execution_count": 120,
   "metadata": {},
   "outputs": [],
   "source": [
    "df = df.astype({\"Occupation\":\"float\",\"No-of-dependents\":\"float\",\"Telephone\":\"float\",\"Foreign-Worker\":\"float\",\"Type-of-apartment\":\"float\",\"Most-valuable-available-asset\":\"float\",\"Instalment-per-cent\":'float',\"Duration-of-Credit-Month\":'float',\"Credit-Amount\":\"float\"})"
   ]
  },
  {
   "cell_type": "code",
   "execution_count": 121,
   "metadata": {},
   "outputs": [],
   "source": [
    "correl=df.corr()"
   ]
  },
  {
   "cell_type": "code",
   "execution_count": 122,
   "metadata": {},
   "outputs": [
    {
     "data": {
      "text/html": [
       "<div>\n",
       "<style scoped>\n",
       "    .dataframe tbody tr th:only-of-type {\n",
       "        vertical-align: middle;\n",
       "    }\n",
       "\n",
       "    .dataframe tbody tr th {\n",
       "        vertical-align: top;\n",
       "    }\n",
       "\n",
       "    .dataframe thead th {\n",
       "        text-align: right;\n",
       "    }\n",
       "</style>\n",
       "<table border=\"1\" class=\"dataframe\">\n",
       "  <thead>\n",
       "    <tr style=\"text-align: right;\">\n",
       "      <th></th>\n",
       "      <th>Duration-of-Credit-Month</th>\n",
       "      <th>Credit-Amount</th>\n",
       "      <th>Instalment-per-cent</th>\n",
       "      <th>Duration-in-Current-address</th>\n",
       "      <th>Most-valuable-available-asset</th>\n",
       "      <th>Age-years</th>\n",
       "      <th>Type-of-apartment</th>\n",
       "      <th>Occupation</th>\n",
       "      <th>No-of-dependents</th>\n",
       "      <th>Telephone</th>\n",
       "      <th>Foreign-Worker</th>\n",
       "    </tr>\n",
       "  </thead>\n",
       "  <tbody>\n",
       "    <tr>\n",
       "      <th>Duration-of-Credit-Month</th>\n",
       "      <td>1.000000</td>\n",
       "      <td>0.573980</td>\n",
       "      <td>0.068106</td>\n",
       "      <td>-0.050649</td>\n",
       "      <td>0.299855</td>\n",
       "      <td>-0.066319</td>\n",
       "      <td>0.152516</td>\n",
       "      <td>NaN</td>\n",
       "      <td>-0.065269</td>\n",
       "      <td>0.143176</td>\n",
       "      <td>-0.115916</td>\n",
       "    </tr>\n",
       "    <tr>\n",
       "      <th>Credit-Amount</th>\n",
       "      <td>0.573980</td>\n",
       "      <td>1.000000</td>\n",
       "      <td>-0.288852</td>\n",
       "      <td>-0.158069</td>\n",
       "      <td>0.325545</td>\n",
       "      <td>0.068643</td>\n",
       "      <td>0.170071</td>\n",
       "      <td>NaN</td>\n",
       "      <td>0.003986</td>\n",
       "      <td>0.286338</td>\n",
       "      <td>0.025493</td>\n",
       "    </tr>\n",
       "    <tr>\n",
       "      <th>Instalment-per-cent</th>\n",
       "      <td>0.068106</td>\n",
       "      <td>-0.288852</td>\n",
       "      <td>1.000000</td>\n",
       "      <td>0.173393</td>\n",
       "      <td>0.081493</td>\n",
       "      <td>0.040540</td>\n",
       "      <td>0.074533</td>\n",
       "      <td>NaN</td>\n",
       "      <td>-0.125894</td>\n",
       "      <td>0.029354</td>\n",
       "      <td>-0.133411</td>\n",
       "    </tr>\n",
       "    <tr>\n",
       "      <th>Duration-in-Current-address</th>\n",
       "      <td>-0.050649</td>\n",
       "      <td>-0.158069</td>\n",
       "      <td>0.173393</td>\n",
       "      <td>1.000000</td>\n",
       "      <td>0.109297</td>\n",
       "      <td>0.301966</td>\n",
       "      <td>-0.157550</td>\n",
       "      <td>NaN</td>\n",
       "      <td>-0.056646</td>\n",
       "      <td>0.084925</td>\n",
       "      <td>-0.036587</td>\n",
       "    </tr>\n",
       "    <tr>\n",
       "      <th>Most-valuable-available-asset</th>\n",
       "      <td>0.299855</td>\n",
       "      <td>0.325545</td>\n",
       "      <td>0.081493</td>\n",
       "      <td>0.109297</td>\n",
       "      <td>1.000000</td>\n",
       "      <td>0.085437</td>\n",
       "      <td>0.373101</td>\n",
       "      <td>NaN</td>\n",
       "      <td>0.046454</td>\n",
       "      <td>0.203509</td>\n",
       "      <td>-0.146005</td>\n",
       "    </tr>\n",
       "    <tr>\n",
       "      <th>Age-years</th>\n",
       "      <td>-0.066319</td>\n",
       "      <td>0.068643</td>\n",
       "      <td>0.040540</td>\n",
       "      <td>0.301966</td>\n",
       "      <td>0.085437</td>\n",
       "      <td>1.000000</td>\n",
       "      <td>0.333075</td>\n",
       "      <td>NaN</td>\n",
       "      <td>0.117735</td>\n",
       "      <td>0.176479</td>\n",
       "      <td>-0.003285</td>\n",
       "    </tr>\n",
       "    <tr>\n",
       "      <th>Type-of-apartment</th>\n",
       "      <td>0.152516</td>\n",
       "      <td>0.170071</td>\n",
       "      <td>0.074533</td>\n",
       "      <td>-0.157550</td>\n",
       "      <td>0.373101</td>\n",
       "      <td>0.333075</td>\n",
       "      <td>1.000000</td>\n",
       "      <td>NaN</td>\n",
       "      <td>0.170738</td>\n",
       "      <td>0.101443</td>\n",
       "      <td>-0.089848</td>\n",
       "    </tr>\n",
       "    <tr>\n",
       "      <th>Occupation</th>\n",
       "      <td>NaN</td>\n",
       "      <td>NaN</td>\n",
       "      <td>NaN</td>\n",
       "      <td>NaN</td>\n",
       "      <td>NaN</td>\n",
       "      <td>NaN</td>\n",
       "      <td>NaN</td>\n",
       "      <td>NaN</td>\n",
       "      <td>NaN</td>\n",
       "      <td>NaN</td>\n",
       "      <td>NaN</td>\n",
       "    </tr>\n",
       "    <tr>\n",
       "      <th>No-of-dependents</th>\n",
       "      <td>-0.065269</td>\n",
       "      <td>0.003986</td>\n",
       "      <td>-0.125894</td>\n",
       "      <td>-0.056646</td>\n",
       "      <td>0.046454</td>\n",
       "      <td>0.117735</td>\n",
       "      <td>0.170738</td>\n",
       "      <td>NaN</td>\n",
       "      <td>1.000000</td>\n",
       "      <td>-0.048559</td>\n",
       "      <td>0.065943</td>\n",
       "    </tr>\n",
       "    <tr>\n",
       "      <th>Telephone</th>\n",
       "      <td>0.143176</td>\n",
       "      <td>0.286338</td>\n",
       "      <td>0.029354</td>\n",
       "      <td>0.084925</td>\n",
       "      <td>0.203509</td>\n",
       "      <td>0.176479</td>\n",
       "      <td>0.101443</td>\n",
       "      <td>NaN</td>\n",
       "      <td>-0.048559</td>\n",
       "      <td>1.000000</td>\n",
       "      <td>-0.055516</td>\n",
       "    </tr>\n",
       "    <tr>\n",
       "      <th>Foreign-Worker</th>\n",
       "      <td>-0.115916</td>\n",
       "      <td>0.025493</td>\n",
       "      <td>-0.133411</td>\n",
       "      <td>-0.036587</td>\n",
       "      <td>-0.146005</td>\n",
       "      <td>-0.003285</td>\n",
       "      <td>-0.089848</td>\n",
       "      <td>NaN</td>\n",
       "      <td>0.065943</td>\n",
       "      <td>-0.055516</td>\n",
       "      <td>1.000000</td>\n",
       "    </tr>\n",
       "  </tbody>\n",
       "</table>\n",
       "</div>"
      ],
      "text/plain": [
       "                               Duration-of-Credit-Month  Credit-Amount  \\\n",
       "Duration-of-Credit-Month                       1.000000       0.573980   \n",
       "Credit-Amount                                  0.573980       1.000000   \n",
       "Instalment-per-cent                            0.068106      -0.288852   \n",
       "Duration-in-Current-address                   -0.050649      -0.158069   \n",
       "Most-valuable-available-asset                  0.299855       0.325545   \n",
       "Age-years                                     -0.066319       0.068643   \n",
       "Type-of-apartment                              0.152516       0.170071   \n",
       "Occupation                                          NaN            NaN   \n",
       "No-of-dependents                              -0.065269       0.003986   \n",
       "Telephone                                      0.143176       0.286338   \n",
       "Foreign-Worker                                -0.115916       0.025493   \n",
       "\n",
       "                               Instalment-per-cent  \\\n",
       "Duration-of-Credit-Month                  0.068106   \n",
       "Credit-Amount                            -0.288852   \n",
       "Instalment-per-cent                       1.000000   \n",
       "Duration-in-Current-address               0.173393   \n",
       "Most-valuable-available-asset             0.081493   \n",
       "Age-years                                 0.040540   \n",
       "Type-of-apartment                         0.074533   \n",
       "Occupation                                     NaN   \n",
       "No-of-dependents                         -0.125894   \n",
       "Telephone                                 0.029354   \n",
       "Foreign-Worker                           -0.133411   \n",
       "\n",
       "                               Duration-in-Current-address  \\\n",
       "Duration-of-Credit-Month                         -0.050649   \n",
       "Credit-Amount                                    -0.158069   \n",
       "Instalment-per-cent                               0.173393   \n",
       "Duration-in-Current-address                       1.000000   \n",
       "Most-valuable-available-asset                     0.109297   \n",
       "Age-years                                         0.301966   \n",
       "Type-of-apartment                                -0.157550   \n",
       "Occupation                                             NaN   \n",
       "No-of-dependents                                 -0.056646   \n",
       "Telephone                                         0.084925   \n",
       "Foreign-Worker                                   -0.036587   \n",
       "\n",
       "                               Most-valuable-available-asset  Age-years  \\\n",
       "Duration-of-Credit-Month                            0.299855  -0.066319   \n",
       "Credit-Amount                                       0.325545   0.068643   \n",
       "Instalment-per-cent                                 0.081493   0.040540   \n",
       "Duration-in-Current-address                         0.109297   0.301966   \n",
       "Most-valuable-available-asset                       1.000000   0.085437   \n",
       "Age-years                                           0.085437   1.000000   \n",
       "Type-of-apartment                                   0.373101   0.333075   \n",
       "Occupation                                               NaN        NaN   \n",
       "No-of-dependents                                    0.046454   0.117735   \n",
       "Telephone                                           0.203509   0.176479   \n",
       "Foreign-Worker                                     -0.146005  -0.003285   \n",
       "\n",
       "                               Type-of-apartment  Occupation  \\\n",
       "Duration-of-Credit-Month                0.152516         NaN   \n",
       "Credit-Amount                           0.170071         NaN   \n",
       "Instalment-per-cent                     0.074533         NaN   \n",
       "Duration-in-Current-address            -0.157550         NaN   \n",
       "Most-valuable-available-asset           0.373101         NaN   \n",
       "Age-years                               0.333075         NaN   \n",
       "Type-of-apartment                       1.000000         NaN   \n",
       "Occupation                                   NaN         NaN   \n",
       "No-of-dependents                        0.170738         NaN   \n",
       "Telephone                               0.101443         NaN   \n",
       "Foreign-Worker                         -0.089848         NaN   \n",
       "\n",
       "                               No-of-dependents  Telephone  Foreign-Worker  \n",
       "Duration-of-Credit-Month              -0.065269   0.143176       -0.115916  \n",
       "Credit-Amount                          0.003986   0.286338        0.025493  \n",
       "Instalment-per-cent                   -0.125894   0.029354       -0.133411  \n",
       "Duration-in-Current-address           -0.056646   0.084925       -0.036587  \n",
       "Most-valuable-available-asset          0.046454   0.203509       -0.146005  \n",
       "Age-years                              0.117735   0.176479       -0.003285  \n",
       "Type-of-apartment                      0.170738   0.101443       -0.089848  \n",
       "Occupation                                  NaN        NaN             NaN  \n",
       "No-of-dependents                       1.000000  -0.048559        0.065943  \n",
       "Telephone                             -0.048559   1.000000       -0.055516  \n",
       "Foreign-Worker                         0.065943  -0.055516        1.000000  "
      ]
     },
     "execution_count": 122,
     "metadata": {},
     "output_type": "execute_result"
    }
   ],
   "source": [
    "correl"
   ]
  },
  {
   "cell_type": "code",
   "execution_count": 123,
   "metadata": {},
   "outputs": [
    {
     "data": {
      "text/plain": [
       "<matplotlib.axes._subplots.AxesSubplot at 0x1ad6ee85c08>"
      ]
     },
     "execution_count": 123,
     "metadata": {},
     "output_type": "execute_result"
    },
    {
     "data": {
      "image/png": "[encoded data removed]",
      "text/plain": [
       "<Figure size 432x288 with 2 Axes>"
      ]
     },
     "metadata": {
      "needs_background": "light"
     },
     "output_type": "display_data"
    }
   ],
   "source": [
    "sns.heatmap(correl)"
   ]
  },
  {
   "cell_type": "code",
   "execution_count": 124,
   "metadata": {},
   "outputs": [
    {
     "data": {
      "text/plain": [
       "Credit-Application-Result              0\n",
       "Account-Balance                        0\n",
       "Duration-of-Credit-Month               0\n",
       "Payment-Status-of-Previous-Credit      0\n",
       "Purpose                                0\n",
       "Credit-Amount                          0\n",
       "Value-Savings-Stocks                   0\n",
       "Length-of-current-employment           0\n",
       "Instalment-per-cent                    0\n",
       "Guarantors                             0\n",
       "Duration-in-Current-address          344\n",
       "Most-valuable-available-asset          0\n",
       "Age-years                             12\n",
       "Concurrent-Credits                     0\n",
       "Type-of-apartment                      0\n",
       "No-of-Credits-at-this-Bank             0\n",
       "Occupation                             0\n",
       "No-of-dependents                       0\n",
       "Telephone                              0\n",
       "Foreign-Worker                         0\n",
       "dtype: int64"
      ]
     },
     "execution_count": 124,
     "metadata": {},
     "output_type": "execute_result"
    }
   ],
   "source": [
    "df.isnull().sum()"
   ]
  },
  {
   "cell_type": "code",
   "execution_count": 125,
   "metadata": {},
   "outputs": [
    {
     "data": {
      "text/html": [
       "<div>\n",
       "<style scoped>\n",
       "    .dataframe tbody tr th:only-of-type {\n",
       "        vertical-align: middle;\n",
       "    }\n",
       "\n",
       "    .dataframe tbody tr th {\n",
       "        vertical-align: top;\n",
       "    }\n",
       "\n",
       "    .dataframe thead th {\n",
       "        text-align: right;\n",
       "    }\n",
       "</style>\n",
       "<table border=\"1\" class=\"dataframe\">\n",
       "  <thead>\n",
       "    <tr style=\"text-align: right;\">\n",
       "      <th></th>\n",
       "      <th>Credit-Application-Result</th>\n",
       "      <th>Account-Balance</th>\n",
       "      <th>Duration-of-Credit-Month</th>\n",
       "      <th>Payment-Status-of-Previous-Credit</th>\n",
       "      <th>Purpose</th>\n",
       "      <th>Credit-Amount</th>\n",
       "      <th>Value-Savings-Stocks</th>\n",
       "      <th>Length-of-current-employment</th>\n",
       "      <th>Instalment-per-cent</th>\n",
       "      <th>Guarantors</th>\n",
       "      <th>Most-valuable-available-asset</th>\n",
       "      <th>Age-years</th>\n",
       "      <th>Concurrent-Credits</th>\n",
       "      <th>Type-of-apartment</th>\n",
       "      <th>No-of-Credits-at-this-Bank</th>\n",
       "      <th>Occupation</th>\n",
       "      <th>No-of-dependents</th>\n",
       "      <th>Telephone</th>\n",
       "      <th>Foreign-Worker</th>\n",
       "    </tr>\n",
       "  </thead>\n",
       "  <tbody>\n",
       "    <tr>\n",
       "      <th>0</th>\n",
       "      <td>Creditworthy</td>\n",
       "      <td>Some Balance</td>\n",
       "      <td>4.0</td>\n",
       "      <td>Paid Up</td>\n",
       "      <td>Other</td>\n",
       "      <td>1494.0</td>\n",
       "      <td>£100-£1000</td>\n",
       "      <td>&lt; 1yr</td>\n",
       "      <td>1.0</td>\n",
       "      <td>None</td>\n",
       "      <td>1.0</td>\n",
       "      <td>33.0</td>\n",
       "      <td>Other Banks/Depts</td>\n",
       "      <td>2.0</td>\n",
       "      <td>1</td>\n",
       "      <td>1.0</td>\n",
       "      <td>2.0</td>\n",
       "      <td>1.0</td>\n",
       "      <td>2.0</td>\n",
       "    </tr>\n",
       "    <tr>\n",
       "      <th>1</th>\n",
       "      <td>Creditworthy</td>\n",
       "      <td>Some Balance</td>\n",
       "      <td>4.0</td>\n",
       "      <td>Paid Up</td>\n",
       "      <td>Home Related</td>\n",
       "      <td>1494.0</td>\n",
       "      <td>£100-£1000</td>\n",
       "      <td>&lt; 1yr</td>\n",
       "      <td>1.0</td>\n",
       "      <td>None</td>\n",
       "      <td>1.0</td>\n",
       "      <td>29.0</td>\n",
       "      <td>Other Banks/Depts</td>\n",
       "      <td>2.0</td>\n",
       "      <td>1</td>\n",
       "      <td>1.0</td>\n",
       "      <td>2.0</td>\n",
       "      <td>1.0</td>\n",
       "      <td>2.0</td>\n",
       "    </tr>\n",
       "    <tr>\n",
       "      <th>2</th>\n",
       "      <td>Creditworthy</td>\n",
       "      <td>Some Balance</td>\n",
       "      <td>4.0</td>\n",
       "      <td>No Problems (in this bank)</td>\n",
       "      <td>Home Related</td>\n",
       "      <td>1544.0</td>\n",
       "      <td>None</td>\n",
       "      <td>1-4 yrs</td>\n",
       "      <td>2.0</td>\n",
       "      <td>None</td>\n",
       "      <td>1.0</td>\n",
       "      <td>42.0</td>\n",
       "      <td>Other Banks/Depts</td>\n",
       "      <td>2.0</td>\n",
       "      <td>More than 1</td>\n",
       "      <td>1.0</td>\n",
       "      <td>2.0</td>\n",
       "      <td>1.0</td>\n",
       "      <td>1.0</td>\n",
       "    </tr>\n",
       "  </tbody>\n",
       "</table>\n",
       "</div>"
      ],
      "text/plain": [
       "  Credit-Application-Result Account-Balance  Duration-of-Credit-Month  \\\n",
       "0              Creditworthy    Some Balance                       4.0   \n",
       "1              Creditworthy    Some Balance                       4.0   \n",
       "2              Creditworthy    Some Balance                       4.0   \n",
       "\n",
       "  Payment-Status-of-Previous-Credit       Purpose  Credit-Amount  \\\n",
       "0                           Paid Up         Other         1494.0   \n",
       "1                           Paid Up  Home Related         1494.0   \n",
       "2        No Problems (in this bank)  Home Related         1544.0   \n",
       "\n",
       "  Value-Savings-Stocks Length-of-current-employment  Instalment-per-cent  \\\n",
       "0           £100-£1000                        < 1yr                  1.0   \n",
       "1           £100-£1000                        < 1yr                  1.0   \n",
       "2                 None                      1-4 yrs                  2.0   \n",
       "\n",
       "  Guarantors  Most-valuable-available-asset  Age-years Concurrent-Credits  \\\n",
       "0       None                            1.0       33.0  Other Banks/Depts   \n",
       "1       None                            1.0       29.0  Other Banks/Depts   \n",
       "2       None                            1.0       42.0  Other Banks/Depts   \n",
       "\n",
       "   Type-of-apartment No-of-Credits-at-this-Bank  Occupation  No-of-dependents  \\\n",
       "0                2.0                          1         1.0               2.0   \n",
       "1                2.0                          1         1.0               2.0   \n",
       "2                2.0                More than 1         1.0               2.0   \n",
       "\n",
       "   Telephone  Foreign-Worker  \n",
       "0        1.0             2.0  \n",
       "1        1.0             2.0  \n",
       "2        1.0             1.0  "
      ]
     },
     "execution_count": 125,
     "metadata": {},
     "output_type": "execute_result"
    }
   ],
   "source": [
    "df=df.drop(['Duration-in-Current-address'],1)\n",
    "df['Age-years']=df['Age-years'].fillna(df['Age-years'].median())\n",
    "df.head(3)"
   ]
  },
  {
   "cell_type": "code",
   "execution_count": 126,
   "metadata": {},
   "outputs": [
    {
     "data": {
      "text/plain": [
       "Duration-of-Credit-Month         1.514726e+02\n",
       "Credit-Amount                    8.016752e+06\n",
       "Instalment-per-cent              1.240381e+00\n",
       "Most-valuable-available-asset    1.132665e+00\n",
       "Age-years                        1.292671e+02\n",
       "Type-of-apartment                2.913988e-01\n",
       "Occupation                       0.000000e+00\n",
       "No-of-dependents                 1.249339e-01\n",
       "Telephone                        2.404810e-01\n",
       "Foreign-Worker                   3.662926e-02\n",
       "dtype: float64"
      ]
     },
     "execution_count": 126,
     "metadata": {},
     "output_type": "execute_result"
    }
   ],
   "source": [
    "df.var()"
   ]
  },
  {
   "cell_type": "code",
   "execution_count": 127,
   "metadata": {},
   "outputs": [],
   "source": [
    "df['Purpose']=df['Purpose'].astype(\"category\")\n",
    "df['Purpose']=df['Purpose'].cat.codes"
   ]
  },
  {
   "cell_type": "markdown",
   "metadata": {},
   "source": [
    "The Columns: Occupation, No. of Dependents, Telephone and Foreign Worker have very low variance and would affect the productivity of prediciton, so those columns have to be dropped"
   ]
  },
  {
   "cell_type": "code",
   "execution_count": 128,
   "metadata": {},
   "outputs": [
    {
     "data": {
      "text/html": [
       "<div>\n",
       "<style scoped>\n",
       "    .dataframe tbody tr th:only-of-type {\n",
       "        vertical-align: middle;\n",
       "    }\n",
       "\n",
       "    .dataframe tbody tr th {\n",
       "        vertical-align: top;\n",
       "    }\n",
       "\n",
       "    .dataframe thead th {\n",
       "        text-align: right;\n",
       "    }\n",
       "</style>\n",
       "<table border=\"1\" class=\"dataframe\">\n",
       "  <thead>\n",
       "    <tr style=\"text-align: right;\">\n",
       "      <th></th>\n",
       "      <th>Credit-Application-Result</th>\n",
       "      <th>Account-Balance</th>\n",
       "      <th>Duration-of-Credit-Month</th>\n",
       "      <th>Payment-Status-of-Previous-Credit</th>\n",
       "      <th>Purpose</th>\n",
       "      <th>Credit-Amount</th>\n",
       "      <th>Value-Savings-Stocks</th>\n",
       "      <th>Length-of-current-employment</th>\n",
       "      <th>Instalment-per-cent</th>\n",
       "      <th>Guarantors</th>\n",
       "      <th>Most-valuable-available-asset</th>\n",
       "      <th>Age-years</th>\n",
       "      <th>Concurrent-Credits</th>\n",
       "      <th>Type-of-apartment</th>\n",
       "      <th>No-of-Credits-at-this-Bank</th>\n",
       "      <th>Occupation</th>\n",
       "      <th>No-of-dependents</th>\n",
       "      <th>Telephone</th>\n",
       "      <th>Foreign-Worker</th>\n",
       "    </tr>\n",
       "  </thead>\n",
       "  <tbody>\n",
       "    <tr>\n",
       "      <th>0</th>\n",
       "      <td>Creditworthy</td>\n",
       "      <td>Some Balance</td>\n",
       "      <td>4.0</td>\n",
       "      <td>Paid Up</td>\n",
       "      <td>2</td>\n",
       "      <td>1494.0</td>\n",
       "      <td>£100-£1000</td>\n",
       "      <td>&lt; 1yr</td>\n",
       "      <td>1.0</td>\n",
       "      <td>None</td>\n",
       "      <td>1.0</td>\n",
       "      <td>33.0</td>\n",
       "      <td>Other Banks/Depts</td>\n",
       "      <td>2.0</td>\n",
       "      <td>1</td>\n",
       "      <td>1.0</td>\n",
       "      <td>2.0</td>\n",
       "      <td>1.0</td>\n",
       "      <td>2.0</td>\n",
       "    </tr>\n",
       "    <tr>\n",
       "      <th>1</th>\n",
       "      <td>Creditworthy</td>\n",
       "      <td>Some Balance</td>\n",
       "      <td>4.0</td>\n",
       "      <td>Paid Up</td>\n",
       "      <td>0</td>\n",
       "      <td>1494.0</td>\n",
       "      <td>£100-£1000</td>\n",
       "      <td>&lt; 1yr</td>\n",
       "      <td>1.0</td>\n",
       "      <td>None</td>\n",
       "      <td>1.0</td>\n",
       "      <td>29.0</td>\n",
       "      <td>Other Banks/Depts</td>\n",
       "      <td>2.0</td>\n",
       "      <td>1</td>\n",
       "      <td>1.0</td>\n",
       "      <td>2.0</td>\n",
       "      <td>1.0</td>\n",
       "      <td>2.0</td>\n",
       "    </tr>\n",
       "    <tr>\n",
       "      <th>2</th>\n",
       "      <td>Creditworthy</td>\n",
       "      <td>Some Balance</td>\n",
       "      <td>4.0</td>\n",
       "      <td>No Problems (in this bank)</td>\n",
       "      <td>0</td>\n",
       "      <td>1544.0</td>\n",
       "      <td>None</td>\n",
       "      <td>1-4 yrs</td>\n",
       "      <td>2.0</td>\n",
       "      <td>None</td>\n",
       "      <td>1.0</td>\n",
       "      <td>42.0</td>\n",
       "      <td>Other Banks/Depts</td>\n",
       "      <td>2.0</td>\n",
       "      <td>More than 1</td>\n",
       "      <td>1.0</td>\n",
       "      <td>2.0</td>\n",
       "      <td>1.0</td>\n",
       "      <td>1.0</td>\n",
       "    </tr>\n",
       "    <tr>\n",
       "      <th>3</th>\n",
       "      <td>Creditworthy</td>\n",
       "      <td>Some Balance</td>\n",
       "      <td>4.0</td>\n",
       "      <td>No Problems (in this bank)</td>\n",
       "      <td>0</td>\n",
       "      <td>3380.0</td>\n",
       "      <td>None</td>\n",
       "      <td>1-4 yrs</td>\n",
       "      <td>1.0</td>\n",
       "      <td>None</td>\n",
       "      <td>1.0</td>\n",
       "      <td>37.0</td>\n",
       "      <td>Other Banks/Depts</td>\n",
       "      <td>2.0</td>\n",
       "      <td>1</td>\n",
       "      <td>1.0</td>\n",
       "      <td>2.0</td>\n",
       "      <td>1.0</td>\n",
       "      <td>1.0</td>\n",
       "    </tr>\n",
       "    <tr>\n",
       "      <th>4</th>\n",
       "      <td>Creditworthy</td>\n",
       "      <td>No Account</td>\n",
       "      <td>6.0</td>\n",
       "      <td>Paid Up</td>\n",
       "      <td>0</td>\n",
       "      <td>343.0</td>\n",
       "      <td>None</td>\n",
       "      <td>&lt; 1yr</td>\n",
       "      <td>4.0</td>\n",
       "      <td>None</td>\n",
       "      <td>1.0</td>\n",
       "      <td>27.0</td>\n",
       "      <td>Other Banks/Depts</td>\n",
       "      <td>2.0</td>\n",
       "      <td>1</td>\n",
       "      <td>1.0</td>\n",
       "      <td>1.0</td>\n",
       "      <td>1.0</td>\n",
       "      <td>1.0</td>\n",
       "    </tr>\n",
       "    <tr>\n",
       "      <th>...</th>\n",
       "      <td>...</td>\n",
       "      <td>...</td>\n",
       "      <td>...</td>\n",
       "      <td>...</td>\n",
       "      <td>...</td>\n",
       "      <td>...</td>\n",
       "      <td>...</td>\n",
       "      <td>...</td>\n",
       "      <td>...</td>\n",
       "      <td>...</td>\n",
       "      <td>...</td>\n",
       "      <td>...</td>\n",
       "      <td>...</td>\n",
       "      <td>...</td>\n",
       "      <td>...</td>\n",
       "      <td>...</td>\n",
       "      <td>...</td>\n",
       "      <td>...</td>\n",
       "      <td>...</td>\n",
       "    </tr>\n",
       "    <tr>\n",
       "      <th>495</th>\n",
       "      <td>Creditworthy</td>\n",
       "      <td>No Account</td>\n",
       "      <td>60.0</td>\n",
       "      <td>No Problems (in this bank)</td>\n",
       "      <td>2</td>\n",
       "      <td>7418.0</td>\n",
       "      <td>£100-£1000</td>\n",
       "      <td>&lt; 1yr</td>\n",
       "      <td>1.0</td>\n",
       "      <td>None</td>\n",
       "      <td>1.0</td>\n",
       "      <td>33.0</td>\n",
       "      <td>Other Banks/Depts</td>\n",
       "      <td>2.0</td>\n",
       "      <td>1</td>\n",
       "      <td>1.0</td>\n",
       "      <td>1.0</td>\n",
       "      <td>1.0</td>\n",
       "      <td>1.0</td>\n",
       "    </tr>\n",
       "    <tr>\n",
       "      <th>496</th>\n",
       "      <td>Creditworthy</td>\n",
       "      <td>No Account</td>\n",
       "      <td>60.0</td>\n",
       "      <td>No Problems (in this bank)</td>\n",
       "      <td>0</td>\n",
       "      <td>7418.0</td>\n",
       "      <td>£100-£1000</td>\n",
       "      <td>&lt; 1yr</td>\n",
       "      <td>1.0</td>\n",
       "      <td>None</td>\n",
       "      <td>1.0</td>\n",
       "      <td>27.0</td>\n",
       "      <td>Other Banks/Depts</td>\n",
       "      <td>2.0</td>\n",
       "      <td>1</td>\n",
       "      <td>1.0</td>\n",
       "      <td>1.0</td>\n",
       "      <td>1.0</td>\n",
       "      <td>1.0</td>\n",
       "    </tr>\n",
       "    <tr>\n",
       "      <th>497</th>\n",
       "      <td>Creditworthy</td>\n",
       "      <td>No Account</td>\n",
       "      <td>60.0</td>\n",
       "      <td>No Problems (in this bank)</td>\n",
       "      <td>0</td>\n",
       "      <td>9157.0</td>\n",
       "      <td>£100-£1000</td>\n",
       "      <td>&lt; 1yr</td>\n",
       "      <td>2.0</td>\n",
       "      <td>None</td>\n",
       "      <td>4.0</td>\n",
       "      <td>27.0</td>\n",
       "      <td>Other Banks/Depts</td>\n",
       "      <td>3.0</td>\n",
       "      <td>1</td>\n",
       "      <td>1.0</td>\n",
       "      <td>1.0</td>\n",
       "      <td>1.0</td>\n",
       "      <td>1.0</td>\n",
       "    </tr>\n",
       "    <tr>\n",
       "      <th>498</th>\n",
       "      <td>Creditworthy</td>\n",
       "      <td>Some Balance</td>\n",
       "      <td>60.0</td>\n",
       "      <td>No Problems (in this bank)</td>\n",
       "      <td>0</td>\n",
       "      <td>13756.0</td>\n",
       "      <td>£100-£1000</td>\n",
       "      <td>4-7 yrs</td>\n",
       "      <td>2.0</td>\n",
       "      <td>None</td>\n",
       "      <td>4.0</td>\n",
       "      <td>63.0</td>\n",
       "      <td>Other Banks/Depts</td>\n",
       "      <td>3.0</td>\n",
       "      <td>1</td>\n",
       "      <td>1.0</td>\n",
       "      <td>1.0</td>\n",
       "      <td>2.0</td>\n",
       "      <td>1.0</td>\n",
       "    </tr>\n",
       "    <tr>\n",
       "      <th>499</th>\n",
       "      <td>Non-Creditworthy</td>\n",
       "      <td>No Account</td>\n",
       "      <td>60.0</td>\n",
       "      <td>Paid Up</td>\n",
       "      <td>0</td>\n",
       "      <td>14027.0</td>\n",
       "      <td>None</td>\n",
       "      <td>1-4 yrs</td>\n",
       "      <td>4.0</td>\n",
       "      <td>None</td>\n",
       "      <td>4.0</td>\n",
       "      <td>27.0</td>\n",
       "      <td>Other Banks/Depts</td>\n",
       "      <td>2.0</td>\n",
       "      <td>1</td>\n",
       "      <td>1.0</td>\n",
       "      <td>1.0</td>\n",
       "      <td>2.0</td>\n",
       "      <td>1.0</td>\n",
       "    </tr>\n",
       "  </tbody>\n",
       "</table>\n",
       "<p>500 rows × 19 columns</p>\n",
       "</div>"
      ],
      "text/plain": [
       "    Credit-Application-Result Account-Balance  Duration-of-Credit-Month  \\\n",
       "0                Creditworthy    Some Balance                       4.0   \n",
       "1                Creditworthy    Some Balance                       4.0   \n",
       "2                Creditworthy    Some Balance                       4.0   \n",
       "3                Creditworthy    Some Balance                       4.0   \n",
       "4                Creditworthy      No Account                       6.0   \n",
       "..                        ...             ...                       ...   \n",
       "495              Creditworthy      No Account                      60.0   \n",
       "496              Creditworthy      No Account                      60.0   \n",
       "497              Creditworthy      No Account                      60.0   \n",
       "498              Creditworthy    Some Balance                      60.0   \n",
       "499          Non-Creditworthy      No Account                      60.0   \n",
       "\n",
       "    Payment-Status-of-Previous-Credit  Purpose  Credit-Amount  \\\n",
       "0                             Paid Up        2         1494.0   \n",
       "1                             Paid Up        0         1494.0   \n",
       "2          No Problems (in this bank)        0         1544.0   \n",
       "3          No Problems (in this bank)        0         3380.0   \n",
       "4                             Paid Up        0          343.0   \n",
       "..                                ...      ...            ...   \n",
       "495        No Problems (in this bank)        2         7418.0   \n",
       "496        No Problems (in this bank)        0         7418.0   \n",
       "497        No Problems (in this bank)        0         9157.0   \n",
       "498        No Problems (in this bank)        0        13756.0   \n",
       "499                           Paid Up        0        14027.0   \n",
       "\n",
       "    Value-Savings-Stocks Length-of-current-employment  Instalment-per-cent  \\\n",
       "0             £100-£1000                        < 1yr                  1.0   \n",
       "1             £100-£1000                        < 1yr                  1.0   \n",
       "2                   None                      1-4 yrs                  2.0   \n",
       "3                   None                      1-4 yrs                  1.0   \n",
       "4                   None                        < 1yr                  4.0   \n",
       "..                   ...                          ...                  ...   \n",
       "495           £100-£1000                        < 1yr                  1.0   \n",
       "496           £100-£1000                        < 1yr                  1.0   \n",
       "497           £100-£1000                        < 1yr                  2.0   \n",
       "498           £100-£1000                      4-7 yrs                  2.0   \n",
       "499                 None                      1-4 yrs                  4.0   \n",
       "\n",
       "    Guarantors  Most-valuable-available-asset  Age-years Concurrent-Credits  \\\n",
       "0         None                            1.0       33.0  Other Banks/Depts   \n",
       "1         None                            1.0       29.0  Other Banks/Depts   \n",
       "2         None                            1.0       42.0  Other Banks/Depts   \n",
       "3         None                            1.0       37.0  Other Banks/Depts   \n",
       "4         None                            1.0       27.0  Other Banks/Depts   \n",
       "..         ...                            ...        ...                ...   \n",
       "495       None                            1.0       33.0  Other Banks/Depts   \n",
       "496       None                            1.0       27.0  Other Banks/Depts   \n",
       "497       None                            4.0       27.0  Other Banks/Depts   \n",
       "498       None                            4.0       63.0  Other Banks/Depts   \n",
       "499       None                            4.0       27.0  Other Banks/Depts   \n",
       "\n",
       "     Type-of-apartment No-of-Credits-at-this-Bank  Occupation  \\\n",
       "0                  2.0                          1         1.0   \n",
       "1                  2.0                          1         1.0   \n",
       "2                  2.0                More than 1         1.0   \n",
       "3                  2.0                          1         1.0   \n",
       "4                  2.0                          1         1.0   \n",
       "..                 ...                        ...         ...   \n",
       "495                2.0                          1         1.0   \n",
       "496                2.0                          1         1.0   \n",
       "497                3.0                          1         1.0   \n",
       "498                3.0                          1         1.0   \n",
       "499                2.0                          1         1.0   \n",
       "\n",
       "     No-of-dependents  Telephone  Foreign-Worker  \n",
       "0                 2.0        1.0             2.0  \n",
       "1                 2.0        1.0             2.0  \n",
       "2                 2.0        1.0             1.0  \n",
       "3                 2.0        1.0             1.0  \n",
       "4                 1.0        1.0             1.0  \n",
       "..                ...        ...             ...  \n",
       "495               1.0        1.0             1.0  \n",
       "496               1.0        1.0             1.0  \n",
       "497               1.0        1.0             1.0  \n",
       "498               1.0        2.0             1.0  \n",
       "499               1.0        2.0             1.0  \n",
       "\n",
       "[500 rows x 19 columns]"
      ]
     },
     "execution_count": 128,
     "metadata": {},
     "output_type": "execute_result"
    }
   ],
   "source": [
    "df"
   ]
  },
  {
   "cell_type": "markdown",
   "metadata": {},
   "source": [
    "The Columns with Low Variability are: Guarantors, Concurrent-Credits, No of dependents, Occupation, Foreign Worker"
   ]
  },
  {
   "cell_type": "code",
   "execution_count": 129,
   "metadata": {},
   "outputs": [
    {
     "data": {
      "text/plain": [
       "<matplotlib.axes._subplots.AxesSubplot at 0x1ad6ef462c8>"
      ]
     },
     "execution_count": 129,
     "metadata": {},
     "output_type": "execute_result"
    },
    {
     "data": {
      "image/png": "[encoded data removed]",
      "text/plain": [
       "<Figure size 432x288 with 1 Axes>"
      ]
     },
     "metadata": {
      "needs_background": "light"
     },
     "output_type": "display_data"
    }
   ],
   "source": [
    "df['Foreign-Worker'].hist()"
   ]
  },
  {
   "cell_type": "code",
   "execution_count": 130,
   "metadata": {},
   "outputs": [
    {
     "data": {
      "text/plain": [
       "<matplotlib.axes._subplots.AxesSubplot at 0x1ad6efc32c8>"
      ]
     },
     "execution_count": 130,
     "metadata": {},
     "output_type": "execute_result"
    },
    {
     "data": {
      "image/png": "[encoded data removed]",
      "text/plain": [
       "<Figure size 432x288 with 1 Axes>"
      ]
     },
     "metadata": {
      "needs_background": "light"
     },
     "output_type": "display_data"
    }
   ],
   "source": [
    "df['Occupation'].hist()"
   ]
  },
  {
   "cell_type": "code",
   "execution_count": 131,
   "metadata": {},
   "outputs": [
    {
     "data": {
      "text/plain": [
       "<matplotlib.axes._subplots.AxesSubplot at 0x1ad6f03a688>"
      ]
     },
     "execution_count": 131,
     "metadata": {},
     "output_type": "execute_result"
    },
    {
     "data": {
      "image/png": "[encoded data removed]",
      "text/plain": [
       "<Figure size 432x288 with 1 Axes>"
      ]
     },
     "metadata": {
      "needs_background": "light"
     },
     "output_type": "display_data"
    }
   ],
   "source": [
    "df['No-of-dependents'].hist()"
   ]
  },
  {
   "cell_type": "code",
   "execution_count": 132,
   "metadata": {},
   "outputs": [
    {
     "data": {
      "text/plain": [
       "<matplotlib.axes._subplots.AxesSubplot at 0x1ad70090508>"
      ]
     },
     "execution_count": 132,
     "metadata": {},
     "output_type": "execute_result"
    },
    {
     "data": {
      "image/png": "[encoded data removed]",
      "text/plain": [
       "<Figure size 432x288 with 1 Axes>"
      ]
     },
     "metadata": {
      "needs_background": "light"
     },
     "output_type": "display_data"
    }
   ],
   "source": [
    "df['Concurrent-Credits'].hist()"
   ]
  },
  {
   "cell_type": "code",
   "execution_count": 133,
   "metadata": {},
   "outputs": [
    {
     "data": {
      "text/plain": [
       "<matplotlib.axes._subplots.AxesSubplot at 0x1ad700feb88>"
      ]
     },
     "execution_count": 133,
     "metadata": {},
     "output_type": "execute_result"
    },
    {
     "data": {
      "image/png": "[encoded data removed]",
      "text/plain": [
       "<Figure size 432x288 with 1 Axes>"
      ]
     },
     "metadata": {
      "needs_background": "light"
     },
     "output_type": "display_data"
    }
   ],
   "source": [
    "df['Guarantors'].hist()"
   ]
  },
  {
   "cell_type": "code",
   "execution_count": 134,
   "metadata": {},
   "outputs": [],
   "source": [
    "df=df.drop(['Guarantors','Concurrent-Credits','No-of-dependents','Occupation','Foreign-Worker'], axis=1)"
   ]
  },
  {
   "cell_type": "markdown",
   "metadata": {},
   "source": [
    "The Telephone Variable is not needed for the Predictive Analysis of this classification Model, so, the column will be removed."
   ]
  },
  {
   "cell_type": "code",
   "execution_count": 135,
   "metadata": {},
   "outputs": [],
   "source": [
    "df=df.drop(['Telephone'],axis=1)"
   ]
  },
  {
   "cell_type": "code",
   "execution_count": 136,
   "metadata": {},
   "outputs": [
    {
     "data": {
      "text/plain": [
       "(500, 13)"
      ]
     },
     "execution_count": 136,
     "metadata": {},
     "output_type": "execute_result"
    }
   ],
   "source": [
    "df.shape"
   ]
  },
  {
   "cell_type": "code",
   "execution_count": 137,
   "metadata": {},
   "outputs": [
    {
     "data": {
      "text/plain": [
       "35.574"
      ]
     },
     "execution_count": 137,
     "metadata": {},
     "output_type": "execute_result"
    }
   ],
   "source": [
    "df['Age-years'].mean()"
   ]
  },
  {
   "cell_type": "code",
   "execution_count": 138,
   "metadata": {},
   "outputs": [
    {
     "data": {
      "text/plain": [
       "Credit-Application-Result             object\n",
       "Account-Balance                       object\n",
       "Duration-of-Credit-Month             float64\n",
       "Payment-Status-of-Previous-Credit     object\n",
       "Purpose                                 int8\n",
       "Credit-Amount                        float64\n",
       "Value-Savings-Stocks                  object\n",
       "Length-of-current-employment          object\n",
       "Instalment-per-cent                  float64\n",
       "Most-valuable-available-asset        float64\n",
       "Age-years                            float64\n",
       "Type-of-apartment                    float64\n",
       "No-of-Credits-at-this-Bank            object\n",
       "dtype: object"
      ]
     },
     "execution_count": 138,
     "metadata": {},
     "output_type": "execute_result"
    }
   ],
   "source": [
    "df.dtypes"
   ]
  },
  {
   "cell_type": "code",
   "execution_count": 139,
   "metadata": {},
   "outputs": [],
   "source": [
    "df['Credit-Application-Result']=df['Credit-Application-Result'].replace({\"Creditworthy\":1,\"Non-Creditworthy\":2})"
   ]
  },
  {
   "cell_type": "code",
   "execution_count": 140,
   "metadata": {},
   "outputs": [
    {
     "data": {
      "text/plain": [
       "1    358\n",
       "2    142\n",
       "Name: Credit-Application-Result, dtype: int64"
      ]
     },
     "execution_count": 140,
     "metadata": {},
     "output_type": "execute_result"
    }
   ],
   "source": [
    "df['Credit-Application-Result'].value_counts()"
   ]
  },
  {
   "cell_type": "code",
   "execution_count": 141,
   "metadata": {},
   "outputs": [],
   "source": [
    "df=pd.get_dummies(data=df, columns=['Account-Balance','Payment-Status-of-Previous-Credit','Value-Savings-Stocks','Length-of-current-employment','No-of-Credits-at-this-Bank'])"
   ]
  },
  {
   "cell_type": "code",
   "execution_count": 142,
   "metadata": {},
   "outputs": [
    {
     "data": {
      "text/html": [
       "<div>\n",
       "<style scoped>\n",
       "    .dataframe tbody tr th:only-of-type {\n",
       "        vertical-align: middle;\n",
       "    }\n",
       "\n",
       "    .dataframe tbody tr th {\n",
       "        vertical-align: top;\n",
       "    }\n",
       "\n",
       "    .dataframe thead th {\n",
       "        text-align: right;\n",
       "    }\n",
       "</style>\n",
       "<table border=\"1\" class=\"dataframe\">\n",
       "  <thead>\n",
       "    <tr style=\"text-align: right;\">\n",
       "      <th></th>\n",
       "      <th>Credit-Application-Result</th>\n",
       "      <th>Duration-of-Credit-Month</th>\n",
       "      <th>Purpose</th>\n",
       "      <th>Credit-Amount</th>\n",
       "      <th>Instalment-per-cent</th>\n",
       "      <th>Most-valuable-available-asset</th>\n",
       "      <th>Age-years</th>\n",
       "      <th>Type-of-apartment</th>\n",
       "      <th>Account-Balance_No Account</th>\n",
       "      <th>Account-Balance_Some Balance</th>\n",
       "      <th>...</th>\n",
       "      <th>Payment-Status-of-Previous-Credit_Paid Up</th>\n",
       "      <th>Payment-Status-of-Previous-Credit_Some Problems</th>\n",
       "      <th>Value-Savings-Stocks_&lt; £100</th>\n",
       "      <th>Value-Savings-Stocks_None</th>\n",
       "      <th>Value-Savings-Stocks_£100-£1000</th>\n",
       "      <th>Length-of-current-employment_1-4 yrs</th>\n",
       "      <th>Length-of-current-employment_4-7 yrs</th>\n",
       "      <th>Length-of-current-employment_&lt; 1yr</th>\n",
       "      <th>No-of-Credits-at-this-Bank_1</th>\n",
       "      <th>No-of-Credits-at-this-Bank_More than 1</th>\n",
       "    </tr>\n",
       "  </thead>\n",
       "  <tbody>\n",
       "    <tr>\n",
       "      <th>0</th>\n",
       "      <td>1</td>\n",
       "      <td>4.0</td>\n",
       "      <td>2</td>\n",
       "      <td>1494.0</td>\n",
       "      <td>1.0</td>\n",
       "      <td>1.0</td>\n",
       "      <td>33.0</td>\n",
       "      <td>2.0</td>\n",
       "      <td>0</td>\n",
       "      <td>1</td>\n",
       "      <td>...</td>\n",
       "      <td>1</td>\n",
       "      <td>0</td>\n",
       "      <td>0</td>\n",
       "      <td>0</td>\n",
       "      <td>1</td>\n",
       "      <td>0</td>\n",
       "      <td>0</td>\n",
       "      <td>1</td>\n",
       "      <td>1</td>\n",
       "      <td>0</td>\n",
       "    </tr>\n",
       "    <tr>\n",
       "      <th>1</th>\n",
       "      <td>1</td>\n",
       "      <td>4.0</td>\n",
       "      <td>0</td>\n",
       "      <td>1494.0</td>\n",
       "      <td>1.0</td>\n",
       "      <td>1.0</td>\n",
       "      <td>29.0</td>\n",
       "      <td>2.0</td>\n",
       "      <td>0</td>\n",
       "      <td>1</td>\n",
       "      <td>...</td>\n",
       "      <td>1</td>\n",
       "      <td>0</td>\n",
       "      <td>0</td>\n",
       "      <td>0</td>\n",
       "      <td>1</td>\n",
       "      <td>0</td>\n",
       "      <td>0</td>\n",
       "      <td>1</td>\n",
       "      <td>1</td>\n",
       "      <td>0</td>\n",
       "    </tr>\n",
       "    <tr>\n",
       "      <th>2</th>\n",
       "      <td>1</td>\n",
       "      <td>4.0</td>\n",
       "      <td>0</td>\n",
       "      <td>1544.0</td>\n",
       "      <td>2.0</td>\n",
       "      <td>1.0</td>\n",
       "      <td>42.0</td>\n",
       "      <td>2.0</td>\n",
       "      <td>0</td>\n",
       "      <td>1</td>\n",
       "      <td>...</td>\n",
       "      <td>0</td>\n",
       "      <td>0</td>\n",
       "      <td>0</td>\n",
       "      <td>1</td>\n",
       "      <td>0</td>\n",
       "      <td>1</td>\n",
       "      <td>0</td>\n",
       "      <td>0</td>\n",
       "      <td>0</td>\n",
       "      <td>1</td>\n",
       "    </tr>\n",
       "    <tr>\n",
       "      <th>3</th>\n",
       "      <td>1</td>\n",
       "      <td>4.0</td>\n",
       "      <td>0</td>\n",
       "      <td>3380.0</td>\n",
       "      <td>1.0</td>\n",
       "      <td>1.0</td>\n",
       "      <td>37.0</td>\n",
       "      <td>2.0</td>\n",
       "      <td>0</td>\n",
       "      <td>1</td>\n",
       "      <td>...</td>\n",
       "      <td>0</td>\n",
       "      <td>0</td>\n",
       "      <td>0</td>\n",
       "      <td>1</td>\n",
       "      <td>0</td>\n",
       "      <td>1</td>\n",
       "      <td>0</td>\n",
       "      <td>0</td>\n",
       "      <td>1</td>\n",
       "      <td>0</td>\n",
       "    </tr>\n",
       "    <tr>\n",
       "      <th>4</th>\n",
       "      <td>1</td>\n",
       "      <td>6.0</td>\n",
       "      <td>0</td>\n",
       "      <td>343.0</td>\n",
       "      <td>4.0</td>\n",
       "      <td>1.0</td>\n",
       "      <td>27.0</td>\n",
       "      <td>2.0</td>\n",
       "      <td>1</td>\n",
       "      <td>0</td>\n",
       "      <td>...</td>\n",
       "      <td>1</td>\n",
       "      <td>0</td>\n",
       "      <td>0</td>\n",
       "      <td>1</td>\n",
       "      <td>0</td>\n",
       "      <td>0</td>\n",
       "      <td>0</td>\n",
       "      <td>1</td>\n",
       "      <td>1</td>\n",
       "      <td>0</td>\n",
       "    </tr>\n",
       "  </tbody>\n",
       "</table>\n",
       "<p>5 rows × 21 columns</p>\n",
       "</div>"
      ],
      "text/plain": [
       "   Credit-Application-Result  Duration-of-Credit-Month  Purpose  \\\n",
       "0                          1                       4.0        2   \n",
       "1                          1                       4.0        0   \n",
       "2                          1                       4.0        0   \n",
       "3                          1                       4.0        0   \n",
       "4                          1                       6.0        0   \n",
       "\n",
       "   Credit-Amount  Instalment-per-cent  Most-valuable-available-asset  \\\n",
       "0         1494.0                  1.0                            1.0   \n",
       "1         1494.0                  1.0                            1.0   \n",
       "2         1544.0                  2.0                            1.0   \n",
       "3         3380.0                  1.0                            1.0   \n",
       "4          343.0                  4.0                            1.0   \n",
       "\n",
       "   Age-years  Type-of-apartment  Account-Balance_No Account  \\\n",
       "0       33.0                2.0                           0   \n",
       "1       29.0                2.0                           0   \n",
       "2       42.0                2.0                           0   \n",
       "3       37.0                2.0                           0   \n",
       "4       27.0                2.0                           1   \n",
       "\n",
       "   Account-Balance_Some Balance  ...  \\\n",
       "0                             1  ...   \n",
       "1                             1  ...   \n",
       "2                             1  ...   \n",
       "3                             1  ...   \n",
       "4                             0  ...   \n",
       "\n",
       "   Payment-Status-of-Previous-Credit_Paid Up  \\\n",
       "0                                          1   \n",
       "1                                          1   \n",
       "2                                          0   \n",
       "3                                          0   \n",
       "4                                          1   \n",
       "\n",
       "   Payment-Status-of-Previous-Credit_Some Problems  \\\n",
       "0                                                0   \n",
       "1                                                0   \n",
       "2                                                0   \n",
       "3                                                0   \n",
       "4                                                0   \n",
       "\n",
       "   Value-Savings-Stocks_< £100  Value-Savings-Stocks_None  \\\n",
       "0                            0                          0   \n",
       "1                            0                          0   \n",
       "2                            0                          1   \n",
       "3                            0                          1   \n",
       "4                            0                          1   \n",
       "\n",
       "   Value-Savings-Stocks_£100-£1000  Length-of-current-employment_1-4 yrs  \\\n",
       "0                                1                                     0   \n",
       "1                                1                                     0   \n",
       "2                                0                                     1   \n",
       "3                                0                                     1   \n",
       "4                                0                                     0   \n",
       "\n",
       "   Length-of-current-employment_4-7 yrs  Length-of-current-employment_< 1yr  \\\n",
       "0                                     0                                   1   \n",
       "1                                     0                                   1   \n",
       "2                                     0                                   0   \n",
       "3                                     0                                   0   \n",
       "4                                     0                                   1   \n",
       "\n",
       "   No-of-Credits-at-this-Bank_1  No-of-Credits-at-this-Bank_More than 1  \n",
       "0                             1                                       0  \n",
       "1                             1                                       0  \n",
       "2                             0                                       1  \n",
       "3                             1                                       0  \n",
       "4                             1                                       0  \n",
       "\n",
       "[5 rows x 21 columns]"
      ]
     },
     "execution_count": 142,
     "metadata": {},
     "output_type": "execute_result"
    }
   ],
   "source": [
    "df.head()"
   ]
  },
  {
   "cell_type": "markdown",
   "metadata": {},
   "source": [
    "#### Trainng the Data"
   ]
  },
  {
   "cell_type": "code",
   "execution_count": 143,
   "metadata": {},
   "outputs": [],
   "source": [
    "X=df.drop(['Credit-Application-Result'],axis=1)\n",
    "y=df['Credit-Application-Result']"
   ]
  },
  {
   "cell_type": "code",
   "execution_count": 144,
   "metadata": {},
   "outputs": [],
   "source": [
    "X_train,X_test,y_train,y_test=train_test_split(X,y,test_size=0.3,random_state=1)"
   ]
  },
  {
   "cell_type": "markdown",
   "metadata": {},
   "source": [
    "#### Modelling and Validation"
   ]
  },
  {
   "cell_type": "code",
   "execution_count": 145,
   "metadata": {},
   "outputs": [
    {
     "name": "stderr",
     "output_type": "stream",
     "text": [
      "C:\\Users\\USER\\Anaconda3new\\lib\\site-packages\\sklearn\\linear_model\\_logistic.py:764: ConvergenceWarning: lbfgs failed to converge (status=1):\n",
      "STOP: TOTAL NO. of ITERATIONS REACHED LIMIT.\n",
      "\n",
      "Increase the number of iterations (max_iter) or scale the data as shown in:\n",
      "    https://scikit-learn.org/stable/modules/preprocessing.html\n",
      "Please also refer to the documentation for alternative solver options:\n",
      "    https://scikit-learn.org/stable/modules/linear_model.html#logistic-regression\n",
      "  extra_warning_msg=_LOGISTIC_SOLVER_CONVERGENCE_MSG)\n"
     ]
    },
    {
     "data": {
      "text/plain": [
       "LogisticRegression()"
      ]
     },
     "execution_count": 145,
     "metadata": {},
     "output_type": "execute_result"
    }
   ],
   "source": [
    "LogReg=LogisticRegression()\n",
    "LogReg.fit(X_train,y_train)"
   ]
  },
  {
   "cell_type": "code",
   "execution_count": 146,
   "metadata": {},
   "outputs": [
    {
     "data": {
      "text/html": [
       "<div>\n",
       "<style scoped>\n",
       "    .dataframe tbody tr th:only-of-type {\n",
       "        vertical-align: middle;\n",
       "    }\n",
       "\n",
       "    .dataframe tbody tr th {\n",
       "        vertical-align: top;\n",
       "    }\n",
       "\n",
       "    .dataframe thead th {\n",
       "        text-align: right;\n",
       "    }\n",
       "</style>\n",
       "<table border=\"1\" class=\"dataframe\">\n",
       "  <thead>\n",
       "    <tr style=\"text-align: right;\">\n",
       "      <th></th>\n",
       "      <th>Feature_Importance</th>\n",
       "      <th>Features</th>\n",
       "    </tr>\n",
       "  </thead>\n",
       "  <tbody>\n",
       "    <tr>\n",
       "      <th>11</th>\n",
       "      <td>0.455159</td>\n",
       "      <td>Payment-Status-of-Previous-Credit_Some Problems</td>\n",
       "    </tr>\n",
       "    <tr>\n",
       "      <th>7</th>\n",
       "      <td>0.369986</td>\n",
       "      <td>Account-Balance_No Account</td>\n",
       "    </tr>\n",
       "    <tr>\n",
       "      <th>13</th>\n",
       "      <td>0.292450</td>\n",
       "      <td>Value-Savings-Stocks_None</td>\n",
       "    </tr>\n",
       "    <tr>\n",
       "      <th>17</th>\n",
       "      <td>0.234103</td>\n",
       "      <td>Length-of-current-employment_&lt; 1yr</td>\n",
       "    </tr>\n",
       "    <tr>\n",
       "      <th>4</th>\n",
       "      <td>0.129206</td>\n",
       "      <td>Most-valuable-available-asset</td>\n",
       "    </tr>\n",
       "    <tr>\n",
       "      <th>3</th>\n",
       "      <td>0.014430</td>\n",
       "      <td>Instalment-per-cent</td>\n",
       "    </tr>\n",
       "    <tr>\n",
       "      <th>0</th>\n",
       "      <td>0.012577</td>\n",
       "      <td>Duration-of-Credit-Month</td>\n",
       "    </tr>\n",
       "    <tr>\n",
       "      <th>2</th>\n",
       "      <td>0.000103</td>\n",
       "      <td>Credit-Amount</td>\n",
       "    </tr>\n",
       "    <tr>\n",
       "      <th>5</th>\n",
       "      <td>-0.020098</td>\n",
       "      <td>Age-years</td>\n",
       "    </tr>\n",
       "    <tr>\n",
       "      <th>16</th>\n",
       "      <td>-0.127113</td>\n",
       "      <td>Length-of-current-employment_4-7 yrs</td>\n",
       "    </tr>\n",
       "    <tr>\n",
       "      <th>19</th>\n",
       "      <td>-0.131531</td>\n",
       "      <td>No-of-Credits-at-this-Bank_More than 1</td>\n",
       "    </tr>\n",
       "    <tr>\n",
       "      <th>1</th>\n",
       "      <td>-0.145652</td>\n",
       "      <td>Purpose</td>\n",
       "    </tr>\n",
       "    <tr>\n",
       "      <th>6</th>\n",
       "      <td>-0.166917</td>\n",
       "      <td>Type-of-apartment</td>\n",
       "    </tr>\n",
       "    <tr>\n",
       "      <th>18</th>\n",
       "      <td>-0.188796</td>\n",
       "      <td>No-of-Credits-at-this-Bank_1</td>\n",
       "    </tr>\n",
       "    <tr>\n",
       "      <th>12</th>\n",
       "      <td>-0.209471</td>\n",
       "      <td>Value-Savings-Stocks_&lt; £100</td>\n",
       "    </tr>\n",
       "    <tr>\n",
       "      <th>10</th>\n",
       "      <td>-0.295703</td>\n",
       "      <td>Payment-Status-of-Previous-Credit_Paid Up</td>\n",
       "    </tr>\n",
       "    <tr>\n",
       "      <th>14</th>\n",
       "      <td>-0.403305</td>\n",
       "      <td>Value-Savings-Stocks_£100-£1000</td>\n",
       "    </tr>\n",
       "    <tr>\n",
       "      <th>15</th>\n",
       "      <td>-0.427316</td>\n",
       "      <td>Length-of-current-employment_1-4 yrs</td>\n",
       "    </tr>\n",
       "    <tr>\n",
       "      <th>9</th>\n",
       "      <td>-0.479782</td>\n",
       "      <td>Payment-Status-of-Previous-Credit_No Problems ...</td>\n",
       "    </tr>\n",
       "    <tr>\n",
       "      <th>8</th>\n",
       "      <td>-0.690313</td>\n",
       "      <td>Account-Balance_Some Balance</td>\n",
       "    </tr>\n",
       "  </tbody>\n",
       "</table>\n",
       "</div>"
      ],
      "text/plain": [
       "    Feature_Importance                                           Features\n",
       "11            0.455159    Payment-Status-of-Previous-Credit_Some Problems\n",
       "7             0.369986                         Account-Balance_No Account\n",
       "13            0.292450                          Value-Savings-Stocks_None\n",
       "17            0.234103                 Length-of-current-employment_< 1yr\n",
       "4             0.129206                      Most-valuable-available-asset\n",
       "3             0.014430                                Instalment-per-cent\n",
       "0             0.012577                           Duration-of-Credit-Month\n",
       "2             0.000103                                      Credit-Amount\n",
       "5            -0.020098                                          Age-years\n",
       "16           -0.127113               Length-of-current-employment_4-7 yrs\n",
       "19           -0.131531             No-of-Credits-at-this-Bank_More than 1\n",
       "1            -0.145652                                            Purpose\n",
       "6            -0.166917                                  Type-of-apartment\n",
       "18           -0.188796                       No-of-Credits-at-this-Bank_1\n",
       "12           -0.209471                        Value-Savings-Stocks_< £100\n",
       "10           -0.295703          Payment-Status-of-Previous-Credit_Paid Up\n",
       "14           -0.403305                    Value-Savings-Stocks_£100-£1000\n",
       "15           -0.427316               Length-of-current-employment_1-4 yrs\n",
       "9            -0.479782  Payment-Status-of-Previous-Credit_No Problems ...\n",
       "8            -0.690313                       Account-Balance_Some Balance"
      ]
     },
     "execution_count": 146,
     "metadata": {},
     "output_type": "execute_result"
    }
   ],
   "source": [
    "data=(pd.DataFrame(LogReg.coef_).T)\n",
    "data.columns=['Feature_Importance']\n",
    "data['Features']=X.columns\n",
    "data.sort_values(by=['Feature_Importance'],inplace=True, ascending=False)\n",
    "data"
   ]
  },
  {
   "cell_type": "code",
   "execution_count": 147,
   "metadata": {},
   "outputs": [
    {
     "name": "stdout",
     "output_type": "stream",
     "text": [
      "The Training dataset accuracy is:  0.7914285714285715\n",
      "The Overall Accuracy is:  0.7666666666666667\n"
     ]
    },
    {
     "data": {
      "text/plain": [
       "<sklearn.metrics._plot.roc_curve.RocCurveDisplay at 0x1ad6edc0948>"
      ]
     },
     "execution_count": 147,
     "metadata": {},
     "output_type": "execute_result"
    },
    {
     "data": {
      "image/png": "[encoded data removed]",
      "text/plain": [
       "<Figure size 432x288 with 2 Axes>"
      ]
     },
     "metadata": {
      "needs_background": "light"
     },
     "output_type": "display_data"
    },
    {
     "data": {
      "image/png": "[encoded data removed]",
      "text/plain": [
       "<Figure size 432x288 with 1 Axes>"
      ]
     },
     "metadata": {
      "needs_background": "light"
     },
     "output_type": "display_data"
    }
   ],
   "source": [
    "print (\"The Training dataset accuracy is: \", LogReg.score(X_train, y_train))\n",
    "print ('The Overall Accuracy is: ',LogReg.score(X_test,y_test))\n",
    "plot_confusion_matrix(LogReg,X_test, y_test)\n",
    "metrics.plot_roc_curve(LogReg, X_test, y_test)  "
   ]
  },
  {
   "cell_type": "code",
   "execution_count": 148,
   "metadata": {},
   "outputs": [
    {
     "data": {
      "text/plain": [
       "DecisionTreeClassifier()"
      ]
     },
     "execution_count": 148,
     "metadata": {},
     "output_type": "execute_result"
    }
   ],
   "source": [
    "DecisionTree=DecisionTreeClassifier()\n",
    "DecisionTree.fit(X_train,y_train)"
   ]
  },
  {
   "cell_type": "code",
   "execution_count": 149,
   "metadata": {},
   "outputs": [
    {
     "data": {
      "text/html": [
       "<div>\n",
       "<style scoped>\n",
       "    .dataframe tbody tr th:only-of-type {\n",
       "        vertical-align: middle;\n",
       "    }\n",
       "\n",
       "    .dataframe tbody tr th {\n",
       "        vertical-align: top;\n",
       "    }\n",
       "\n",
       "    .dataframe thead th {\n",
       "        text-align: right;\n",
       "    }\n",
       "</style>\n",
       "<table border=\"1\" class=\"dataframe\">\n",
       "  <thead>\n",
       "    <tr style=\"text-align: right;\">\n",
       "      <th></th>\n",
       "      <th>Features</th>\n",
       "      <th>Feature_Importance</th>\n",
       "    </tr>\n",
       "  </thead>\n",
       "  <tbody>\n",
       "    <tr>\n",
       "      <th>2</th>\n",
       "      <td>Credit-Amount</td>\n",
       "      <td>0.241408</td>\n",
       "    </tr>\n",
       "    <tr>\n",
       "      <th>5</th>\n",
       "      <td>Age-years</td>\n",
       "      <td>0.189988</td>\n",
       "    </tr>\n",
       "    <tr>\n",
       "      <th>0</th>\n",
       "      <td>Duration-of-Credit-Month</td>\n",
       "      <td>0.156952</td>\n",
       "    </tr>\n",
       "    <tr>\n",
       "      <th>3</th>\n",
       "      <td>Instalment-per-cent</td>\n",
       "      <td>0.068569</td>\n",
       "    </tr>\n",
       "    <tr>\n",
       "      <th>8</th>\n",
       "      <td>Account-Balance_Some Balance</td>\n",
       "      <td>0.065773</td>\n",
       "    </tr>\n",
       "    <tr>\n",
       "      <th>16</th>\n",
       "      <td>Length-of-current-employment_4-7 yrs</td>\n",
       "      <td>0.064433</td>\n",
       "    </tr>\n",
       "    <tr>\n",
       "      <th>11</th>\n",
       "      <td>Payment-Status-of-Previous-Credit_Some Problems</td>\n",
       "      <td>0.049652</td>\n",
       "    </tr>\n",
       "    <tr>\n",
       "      <th>1</th>\n",
       "      <td>Purpose</td>\n",
       "      <td>0.032598</td>\n",
       "    </tr>\n",
       "    <tr>\n",
       "      <th>10</th>\n",
       "      <td>Payment-Status-of-Previous-Credit_Paid Up</td>\n",
       "      <td>0.027268</td>\n",
       "    </tr>\n",
       "    <tr>\n",
       "      <th>4</th>\n",
       "      <td>Most-valuable-available-asset</td>\n",
       "      <td>0.027151</td>\n",
       "    </tr>\n",
       "    <tr>\n",
       "      <th>6</th>\n",
       "      <td>Type-of-apartment</td>\n",
       "      <td>0.021146</td>\n",
       "    </tr>\n",
       "    <tr>\n",
       "      <th>14</th>\n",
       "      <td>Value-Savings-Stocks_£100-£1000</td>\n",
       "      <td>0.013485</td>\n",
       "    </tr>\n",
       "    <tr>\n",
       "      <th>17</th>\n",
       "      <td>Length-of-current-employment_&lt; 1yr</td>\n",
       "      <td>0.012681</td>\n",
       "    </tr>\n",
       "    <tr>\n",
       "      <th>9</th>\n",
       "      <td>Payment-Status-of-Previous-Credit_No Problems ...</td>\n",
       "      <td>0.009632</td>\n",
       "    </tr>\n",
       "    <tr>\n",
       "      <th>12</th>\n",
       "      <td>Value-Savings-Stocks_&lt; £100</td>\n",
       "      <td>0.009632</td>\n",
       "    </tr>\n",
       "    <tr>\n",
       "      <th>18</th>\n",
       "      <td>No-of-Credits-at-this-Bank_1</td>\n",
       "      <td>0.009632</td>\n",
       "    </tr>\n",
       "    <tr>\n",
       "      <th>7</th>\n",
       "      <td>Account-Balance_No Account</td>\n",
       "      <td>0.000000</td>\n",
       "    </tr>\n",
       "    <tr>\n",
       "      <th>13</th>\n",
       "      <td>Value-Savings-Stocks_None</td>\n",
       "      <td>0.000000</td>\n",
       "    </tr>\n",
       "    <tr>\n",
       "      <th>15</th>\n",
       "      <td>Length-of-current-employment_1-4 yrs</td>\n",
       "      <td>0.000000</td>\n",
       "    </tr>\n",
       "    <tr>\n",
       "      <th>19</th>\n",
       "      <td>No-of-Credits-at-this-Bank_More than 1</td>\n",
       "      <td>0.000000</td>\n",
       "    </tr>\n",
       "  </tbody>\n",
       "</table>\n",
       "</div>"
      ],
      "text/plain": [
       "                                             Features  Feature_Importance\n",
       "2                                       Credit-Amount            0.241408\n",
       "5                                           Age-years            0.189988\n",
       "0                            Duration-of-Credit-Month            0.156952\n",
       "3                                 Instalment-per-cent            0.068569\n",
       "8                        Account-Balance_Some Balance            0.065773\n",
       "16               Length-of-current-employment_4-7 yrs            0.064433\n",
       "11    Payment-Status-of-Previous-Credit_Some Problems            0.049652\n",
       "1                                             Purpose            0.032598\n",
       "10          Payment-Status-of-Previous-Credit_Paid Up            0.027268\n",
       "4                       Most-valuable-available-asset            0.027151\n",
       "6                                   Type-of-apartment            0.021146\n",
       "14                    Value-Savings-Stocks_£100-£1000            0.013485\n",
       "17                 Length-of-current-employment_< 1yr            0.012681\n",
       "9   Payment-Status-of-Previous-Credit_No Problems ...            0.009632\n",
       "12                        Value-Savings-Stocks_< £100            0.009632\n",
       "18                       No-of-Credits-at-this-Bank_1            0.009632\n",
       "7                          Account-Balance_No Account            0.000000\n",
       "13                          Value-Savings-Stocks_None            0.000000\n",
       "15               Length-of-current-employment_1-4 yrs            0.000000\n",
       "19             No-of-Credits-at-this-Bank_More than 1            0.000000"
      ]
     },
     "execution_count": 149,
     "metadata": {},
     "output_type": "execute_result"
    }
   ],
   "source": [
    "DecisionTree.feature_importances_\n",
    "data2=pd.DataFrame()\n",
    "data2['Features']=X.columns\n",
    "data2['Feature_Importance']=pd.DataFrame(DecisionTree.feature_importances_)\n",
    "data2.sort_values(by=['Feature_Importance'],inplace=True, ascending=False)\n",
    "data2"
   ]
  },
  {
   "cell_type": "code",
   "execution_count": 150,
   "metadata": {},
   "outputs": [
    {
     "name": "stdout",
     "output_type": "stream",
     "text": [
      "The Training dataset accuracy is:  1.0\n",
      "The Overall Accuracy is:  0.6466666666666666\n"
     ]
    },
    {
     "data": {
      "text/plain": [
       "<sklearn.metrics._plot.roc_curve.RocCurveDisplay at 0x1ad6e83ad08>"
      ]
     },
     "execution_count": 150,
     "metadata": {},
     "output_type": "execute_result"
    },
    {
     "data": {
      "image/png": "[encoded data removed]",
      "text/plain": [
       "<Figure size 432x288 with 2 Axes>"
      ]
     },
     "metadata": {
      "needs_background": "light"
     },
     "output_type": "display_data"
    },
    {
     "data": {
      "image/png": "[encoded data removed]",
      "text/plain": [
       "<Figure size 432x288 with 1 Axes>"
      ]
     },
     "metadata": {
      "needs_background": "light"
     },
     "output_type": "display_data"
    }
   ],
   "source": [
    "print (\"The Training dataset accuracy is: \", DecisionTree.score(X_train, y_train))\n",
    "print ('The Overall Accuracy is: ',DecisionTree.score(X_test,y_test))\n",
    "plot_confusion_matrix(DecisionTree,X_test, y_test)\n",
    "metrics.plot_roc_curve(DecisionTree, X_test, y_test)  "
   ]
  },
  {
   "cell_type": "markdown",
   "metadata": {},
   "source": [
    "From the accuracy given above, it the decision tree prediction is biased as the accuracy of the training set is 100% while that of the testing set is 68.6 percent. The testing set tends to be underfitted"
   ]
  },
  {
   "cell_type": "code",
   "execution_count": 151,
   "metadata": {},
   "outputs": [
    {
     "data": {
      "text/plain": [
       "RandomForestClassifier()"
      ]
     },
     "execution_count": 151,
     "metadata": {},
     "output_type": "execute_result"
    }
   ],
   "source": [
    "Forest=RandomForestClassifier()\n",
    "Forest.fit(X_train,y_train)"
   ]
  },
  {
   "cell_type": "code",
   "execution_count": 152,
   "metadata": {},
   "outputs": [
    {
     "data": {
      "text/html": [
       "<div>\n",
       "<style scoped>\n",
       "    .dataframe tbody tr th:only-of-type {\n",
       "        vertical-align: middle;\n",
       "    }\n",
       "\n",
       "    .dataframe tbody tr th {\n",
       "        vertical-align: top;\n",
       "    }\n",
       "\n",
       "    .dataframe thead th {\n",
       "        text-align: right;\n",
       "    }\n",
       "</style>\n",
       "<table border=\"1\" class=\"dataframe\">\n",
       "  <thead>\n",
       "    <tr style=\"text-align: right;\">\n",
       "      <th></th>\n",
       "      <th>Features</th>\n",
       "      <th>Feature_Importance</th>\n",
       "    </tr>\n",
       "  </thead>\n",
       "  <tbody>\n",
       "    <tr>\n",
       "      <th>2</th>\n",
       "      <td>Credit-Amount</td>\n",
       "      <td>0.217926</td>\n",
       "    </tr>\n",
       "    <tr>\n",
       "      <th>0</th>\n",
       "      <td>Duration-of-Credit-Month</td>\n",
       "      <td>0.143083</td>\n",
       "    </tr>\n",
       "    <tr>\n",
       "      <th>5</th>\n",
       "      <td>Age-years</td>\n",
       "      <td>0.136532</td>\n",
       "    </tr>\n",
       "    <tr>\n",
       "      <th>4</th>\n",
       "      <td>Most-valuable-available-asset</td>\n",
       "      <td>0.064722</td>\n",
       "    </tr>\n",
       "    <tr>\n",
       "      <th>3</th>\n",
       "      <td>Instalment-per-cent</td>\n",
       "      <td>0.056323</td>\n",
       "    </tr>\n",
       "    <tr>\n",
       "      <th>1</th>\n",
       "      <td>Purpose</td>\n",
       "      <td>0.037635</td>\n",
       "    </tr>\n",
       "    <tr>\n",
       "      <th>6</th>\n",
       "      <td>Type-of-apartment</td>\n",
       "      <td>0.036876</td>\n",
       "    </tr>\n",
       "    <tr>\n",
       "      <th>11</th>\n",
       "      <td>Payment-Status-of-Previous-Credit_Some Problems</td>\n",
       "      <td>0.036415</td>\n",
       "    </tr>\n",
       "    <tr>\n",
       "      <th>7</th>\n",
       "      <td>Account-Balance_No Account</td>\n",
       "      <td>0.034823</td>\n",
       "    </tr>\n",
       "    <tr>\n",
       "      <th>8</th>\n",
       "      <td>Account-Balance_Some Balance</td>\n",
       "      <td>0.032253</td>\n",
       "    </tr>\n",
       "    <tr>\n",
       "      <th>17</th>\n",
       "      <td>Length-of-current-employment_&lt; 1yr</td>\n",
       "      <td>0.027260</td>\n",
       "    </tr>\n",
       "    <tr>\n",
       "      <th>13</th>\n",
       "      <td>Value-Savings-Stocks_None</td>\n",
       "      <td>0.025852</td>\n",
       "    </tr>\n",
       "    <tr>\n",
       "      <th>10</th>\n",
       "      <td>Payment-Status-of-Previous-Credit_Paid Up</td>\n",
       "      <td>0.021405</td>\n",
       "    </tr>\n",
       "    <tr>\n",
       "      <th>14</th>\n",
       "      <td>Value-Savings-Stocks_£100-£1000</td>\n",
       "      <td>0.021399</td>\n",
       "    </tr>\n",
       "    <tr>\n",
       "      <th>9</th>\n",
       "      <td>Payment-Status-of-Previous-Credit_No Problems ...</td>\n",
       "      <td>0.021109</td>\n",
       "    </tr>\n",
       "    <tr>\n",
       "      <th>15</th>\n",
       "      <td>Length-of-current-employment_1-4 yrs</td>\n",
       "      <td>0.018930</td>\n",
       "    </tr>\n",
       "    <tr>\n",
       "      <th>19</th>\n",
       "      <td>No-of-Credits-at-this-Bank_More than 1</td>\n",
       "      <td>0.018503</td>\n",
       "    </tr>\n",
       "    <tr>\n",
       "      <th>16</th>\n",
       "      <td>Length-of-current-employment_4-7 yrs</td>\n",
       "      <td>0.018409</td>\n",
       "    </tr>\n",
       "    <tr>\n",
       "      <th>18</th>\n",
       "      <td>No-of-Credits-at-this-Bank_1</td>\n",
       "      <td>0.017278</td>\n",
       "    </tr>\n",
       "    <tr>\n",
       "      <th>12</th>\n",
       "      <td>Value-Savings-Stocks_&lt; £100</td>\n",
       "      <td>0.013266</td>\n",
       "    </tr>\n",
       "  </tbody>\n",
       "</table>\n",
       "</div>"
      ],
      "text/plain": [
       "                                             Features  Feature_Importance\n",
       "2                                       Credit-Amount            0.217926\n",
       "0                            Duration-of-Credit-Month            0.143083\n",
       "5                                           Age-years            0.136532\n",
       "4                       Most-valuable-available-asset            0.064722\n",
       "3                                 Instalment-per-cent            0.056323\n",
       "1                                             Purpose            0.037635\n",
       "6                                   Type-of-apartment            0.036876\n",
       "11    Payment-Status-of-Previous-Credit_Some Problems            0.036415\n",
       "7                          Account-Balance_No Account            0.034823\n",
       "8                        Account-Balance_Some Balance            0.032253\n",
       "17                 Length-of-current-employment_< 1yr            0.027260\n",
       "13                          Value-Savings-Stocks_None            0.025852\n",
       "10          Payment-Status-of-Previous-Credit_Paid Up            0.021405\n",
       "14                    Value-Savings-Stocks_£100-£1000            0.021399\n",
       "9   Payment-Status-of-Previous-Credit_No Problems ...            0.021109\n",
       "15               Length-of-current-employment_1-4 yrs            0.018930\n",
       "19             No-of-Credits-at-this-Bank_More than 1            0.018503\n",
       "16               Length-of-current-employment_4-7 yrs            0.018409\n",
       "18                       No-of-Credits-at-this-Bank_1            0.017278\n",
       "12                        Value-Savings-Stocks_< £100            0.013266"
      ]
     },
     "execution_count": 152,
     "metadata": {},
     "output_type": "execute_result"
    }
   ],
   "source": [
    "Forest.feature_importances_\n",
    "data3=pd.DataFrame()\n",
    "data3['Features']=X.columns\n",
    "data3['Feature_Importance']=pd.DataFrame(Forest.feature_importances_)\n",
    "data3.sort_values(by=['Feature_Importance'],inplace=True, ascending=False)\n",
    "data3"
   ]
  },
  {
   "cell_type": "code",
   "execution_count": 153,
   "metadata": {},
   "outputs": [
    {
     "name": "stdout",
     "output_type": "stream",
     "text": [
      "The Training set Accuracy is:  1.0\n",
      "The Overall Accuracy is:  0.76\n"
     ]
    },
    {
     "data": {
      "text/plain": [
       "<sklearn.metrics._plot.roc_curve.RocCurveDisplay at 0x1ad6eb8a8c8>"
      ]
     },
     "execution_count": 153,
     "metadata": {},
     "output_type": "execute_result"
    },
    {
     "data": {
      "image/png": "[encoded data removed]",
      "text/plain": [
       "<Figure size 432x288 with 2 Axes>"
      ]
     },
     "metadata": {
      "needs_background": "light"
     },
     "output_type": "display_data"
    },
    {
     "data": {
      "image/png": "[encoded data removed]",
      "text/plain": [
       "<Figure size 432x288 with 1 Axes>"
      ]
     },
     "metadata": {
      "needs_background": "light"
     },
     "output_type": "display_data"
    }
   ],
   "source": [
    "print (\"The Training set Accuracy is: \", Forest.score(X_train,y_train))\n",
    "print ('The Overall Accuracy is: ',Forest.score(X_test,y_test))\n",
    "plot_confusion_matrix(Forest,X_test, y_test)\n",
    "metrics.plot_roc_curve(Forest, X_test, y_test)  "
   ]
  },
  {
   "cell_type": "code",
   "execution_count": 154,
   "metadata": {},
   "outputs": [
    {
     "data": {
      "text/plain": [
       "GradientBoostingClassifier()"
      ]
     },
     "execution_count": 154,
     "metadata": {},
     "output_type": "execute_result"
    }
   ],
   "source": [
    "Boosted=GradientBoostingClassifier()\n",
    "Boosted.fit(X_train,y_train)"
   ]
  },
  {
   "cell_type": "code",
   "execution_count": 155,
   "metadata": {},
   "outputs": [
    {
     "data": {
      "text/html": [
       "<div>\n",
       "<style scoped>\n",
       "    .dataframe tbody tr th:only-of-type {\n",
       "        vertical-align: middle;\n",
       "    }\n",
       "\n",
       "    .dataframe tbody tr th {\n",
       "        vertical-align: top;\n",
       "    }\n",
       "\n",
       "    .dataframe thead th {\n",
       "        text-align: right;\n",
       "    }\n",
       "</style>\n",
       "<table border=\"1\" class=\"dataframe\">\n",
       "  <thead>\n",
       "    <tr style=\"text-align: right;\">\n",
       "      <th></th>\n",
       "      <th>Features</th>\n",
       "      <th>Feature_Importance</th>\n",
       "    </tr>\n",
       "  </thead>\n",
       "  <tbody>\n",
       "    <tr>\n",
       "      <th>2</th>\n",
       "      <td>Credit-Amount</td>\n",
       "      <td>0.301197</td>\n",
       "    </tr>\n",
       "    <tr>\n",
       "      <th>0</th>\n",
       "      <td>Duration-of-Credit-Month</td>\n",
       "      <td>0.191373</td>\n",
       "    </tr>\n",
       "    <tr>\n",
       "      <th>5</th>\n",
       "      <td>Age-years</td>\n",
       "      <td>0.140331</td>\n",
       "    </tr>\n",
       "    <tr>\n",
       "      <th>11</th>\n",
       "      <td>Payment-Status-of-Previous-Credit_Some Problems</td>\n",
       "      <td>0.076308</td>\n",
       "    </tr>\n",
       "    <tr>\n",
       "      <th>8</th>\n",
       "      <td>Account-Balance_Some Balance</td>\n",
       "      <td>0.047142</td>\n",
       "    </tr>\n",
       "    <tr>\n",
       "      <th>3</th>\n",
       "      <td>Instalment-per-cent</td>\n",
       "      <td>0.037371</td>\n",
       "    </tr>\n",
       "    <tr>\n",
       "      <th>4</th>\n",
       "      <td>Most-valuable-available-asset</td>\n",
       "      <td>0.035174</td>\n",
       "    </tr>\n",
       "    <tr>\n",
       "      <th>13</th>\n",
       "      <td>Value-Savings-Stocks_None</td>\n",
       "      <td>0.034723</td>\n",
       "    </tr>\n",
       "    <tr>\n",
       "      <th>7</th>\n",
       "      <td>Account-Balance_No Account</td>\n",
       "      <td>0.034160</td>\n",
       "    </tr>\n",
       "    <tr>\n",
       "      <th>17</th>\n",
       "      <td>Length-of-current-employment_&lt; 1yr</td>\n",
       "      <td>0.029288</td>\n",
       "    </tr>\n",
       "    <tr>\n",
       "      <th>1</th>\n",
       "      <td>Purpose</td>\n",
       "      <td>0.021381</td>\n",
       "    </tr>\n",
       "    <tr>\n",
       "      <th>14</th>\n",
       "      <td>Value-Savings-Stocks_£100-£1000</td>\n",
       "      <td>0.013492</td>\n",
       "    </tr>\n",
       "    <tr>\n",
       "      <th>6</th>\n",
       "      <td>Type-of-apartment</td>\n",
       "      <td>0.012817</td>\n",
       "    </tr>\n",
       "    <tr>\n",
       "      <th>9</th>\n",
       "      <td>Payment-Status-of-Previous-Credit_No Problems ...</td>\n",
       "      <td>0.007676</td>\n",
       "    </tr>\n",
       "    <tr>\n",
       "      <th>18</th>\n",
       "      <td>No-of-Credits-at-this-Bank_1</td>\n",
       "      <td>0.005085</td>\n",
       "    </tr>\n",
       "    <tr>\n",
       "      <th>15</th>\n",
       "      <td>Length-of-current-employment_1-4 yrs</td>\n",
       "      <td>0.004471</td>\n",
       "    </tr>\n",
       "    <tr>\n",
       "      <th>19</th>\n",
       "      <td>No-of-Credits-at-this-Bank_More than 1</td>\n",
       "      <td>0.003149</td>\n",
       "    </tr>\n",
       "    <tr>\n",
       "      <th>12</th>\n",
       "      <td>Value-Savings-Stocks_&lt; £100</td>\n",
       "      <td>0.003029</td>\n",
       "    </tr>\n",
       "    <tr>\n",
       "      <th>10</th>\n",
       "      <td>Payment-Status-of-Previous-Credit_Paid Up</td>\n",
       "      <td>0.001315</td>\n",
       "    </tr>\n",
       "    <tr>\n",
       "      <th>16</th>\n",
       "      <td>Length-of-current-employment_4-7 yrs</td>\n",
       "      <td>0.000518</td>\n",
       "    </tr>\n",
       "  </tbody>\n",
       "</table>\n",
       "</div>"
      ],
      "text/plain": [
       "                                             Features  Feature_Importance\n",
       "2                                       Credit-Amount            0.301197\n",
       "0                            Duration-of-Credit-Month            0.191373\n",
       "5                                           Age-years            0.140331\n",
       "11    Payment-Status-of-Previous-Credit_Some Problems            0.076308\n",
       "8                        Account-Balance_Some Balance            0.047142\n",
       "3                                 Instalment-per-cent            0.037371\n",
       "4                       Most-valuable-available-asset            0.035174\n",
       "13                          Value-Savings-Stocks_None            0.034723\n",
       "7                          Account-Balance_No Account            0.034160\n",
       "17                 Length-of-current-employment_< 1yr            0.029288\n",
       "1                                             Purpose            0.021381\n",
       "14                    Value-Savings-Stocks_£100-£1000            0.013492\n",
       "6                                   Type-of-apartment            0.012817\n",
       "9   Payment-Status-of-Previous-Credit_No Problems ...            0.007676\n",
       "18                       No-of-Credits-at-this-Bank_1            0.005085\n",
       "15               Length-of-current-employment_1-4 yrs            0.004471\n",
       "19             No-of-Credits-at-this-Bank_More than 1            0.003149\n",
       "12                        Value-Savings-Stocks_< £100            0.003029\n",
       "10          Payment-Status-of-Previous-Credit_Paid Up            0.001315\n",
       "16               Length-of-current-employment_4-7 yrs            0.000518"
      ]
     },
     "execution_count": 155,
     "metadata": {},
     "output_type": "execute_result"
    }
   ],
   "source": [
    "Boosted.feature_importances_\n",
    "data4=pd.DataFrame()\n",
    "data4['Features']=X.columns\n",
    "data4['Feature_Importance']=pd.DataFrame(Boosted.feature_importances_)\n",
    "data4.sort_values(by=['Feature_Importance'],inplace=True, ascending=False)\n",
    "data4"
   ]
  },
  {
   "cell_type": "code",
   "execution_count": 156,
   "metadata": {},
   "outputs": [
    {
     "name": "stdout",
     "output_type": "stream",
     "text": [
      "The Training set Accuracy is:  0.9457142857142857\n",
      "The Overall Accuracy is:  0.7133333333333334\n"
     ]
    },
    {
     "data": {
      "text/plain": [
       "<sklearn.metrics._plot.roc_curve.RocCurveDisplay at 0x1ad701fe988>"
      ]
     },
     "execution_count": 156,
     "metadata": {},
     "output_type": "execute_result"
    },
    {
     "data": {
      "image/png": "[encoded data removed]",
      "text/plain": [
       "<Figure size 432x288 with 2 Axes>"
      ]
     },
     "metadata": {
      "needs_background": "light"
     },
     "output_type": "display_data"
    },
    {
     "data": {
      "image/png": "[encoded data removed]",
      "text/plain": [
       "<Figure size 432x288 with 1 Axes>"
      ]
     },
     "metadata": {
      "needs_background": "light"
     },
     "output_type": "display_data"
    }
   ],
   "source": [
    "print (\"The Training set Accuracy is: \", Boosted.score(X_train,y_train))\n",
    "print ('The Overall Accuracy is: ',Boosted.score(X_test,y_test))\n",
    "plot_confusion_matrix(Boosted,X_test, y_test)\n",
    "metrics.plot_roc_curve(Boosted, X_test, y_test)  "
   ]
  },
  {
   "cell_type": "code",
   "execution_count": 157,
   "metadata": {},
   "outputs": [],
   "source": [
    "test=pd.read_excel(\"customers-to-score.xlsx\")"
   ]
  },
  {
   "cell_type": "code",
   "execution_count": 158,
   "metadata": {},
   "outputs": [],
   "source": [
    "test = test.astype({\"Occupation\":\"float\",\"No-of-dependents\":\"float\",\"Telephone\":\"float\",\"Foreign-Worker\":\"float\",\"Type-of-apartment\":\"float\",\"Most-valuable-available-asset\":\"float\",\"Instalment-per-cent\":'float',\"Duration-of-Credit-Month\":'float',\"Credit-Amount\":\"float\"})"
   ]
  },
  {
   "cell_type": "code",
   "execution_count": 159,
   "metadata": {},
   "outputs": [
    {
     "data": {
      "text/html": [
       "<div>\n",
       "<style scoped>\n",
       "    .dataframe tbody tr th:only-of-type {\n",
       "        vertical-align: middle;\n",
       "    }\n",
       "\n",
       "    .dataframe tbody tr th {\n",
       "        vertical-align: top;\n",
       "    }\n",
       "\n",
       "    .dataframe thead th {\n",
       "        text-align: right;\n",
       "    }\n",
       "</style>\n",
       "<table border=\"1\" class=\"dataframe\">\n",
       "  <thead>\n",
       "    <tr style=\"text-align: right;\">\n",
       "      <th></th>\n",
       "      <th>Account-Balance</th>\n",
       "      <th>Duration-of-Credit-Month</th>\n",
       "      <th>Payment-Status-of-Previous-Credit</th>\n",
       "      <th>Purpose</th>\n",
       "      <th>Credit-Amount</th>\n",
       "      <th>Value-Savings-Stocks</th>\n",
       "      <th>Length-of-current-employment</th>\n",
       "      <th>Instalment-per-cent</th>\n",
       "      <th>Guarantors</th>\n",
       "      <th>Duration-in-Current-address</th>\n",
       "      <th>Most-valuable-available-asset</th>\n",
       "      <th>Age-years</th>\n",
       "      <th>Concurrent-Credits</th>\n",
       "      <th>Type-of-apartment</th>\n",
       "      <th>No-of-Credits-at-this-Bank</th>\n",
       "      <th>Occupation</th>\n",
       "      <th>No-of-dependents</th>\n",
       "      <th>Telephone</th>\n",
       "      <th>Foreign-Worker</th>\n",
       "    </tr>\n",
       "  </thead>\n",
       "  <tbody>\n",
       "    <tr>\n",
       "      <th>0</th>\n",
       "      <td>No Account</td>\n",
       "      <td>9.0</td>\n",
       "      <td>No Problems (in this bank)</td>\n",
       "      <td>Home Related</td>\n",
       "      <td>2799.0</td>\n",
       "      <td>None</td>\n",
       "      <td>&lt; 1yr</td>\n",
       "      <td>2.0</td>\n",
       "      <td>None</td>\n",
       "      <td>2</td>\n",
       "      <td>1.0</td>\n",
       "      <td>36</td>\n",
       "      <td>Other Banks/Depts</td>\n",
       "      <td>1.0</td>\n",
       "      <td>More than 1</td>\n",
       "      <td>1.0</td>\n",
       "      <td>2.0</td>\n",
       "      <td>1.0</td>\n",
       "      <td>1.0</td>\n",
       "    </tr>\n",
       "    <tr>\n",
       "      <th>1</th>\n",
       "      <td>No Account</td>\n",
       "      <td>12.0</td>\n",
       "      <td>No Problems (in this bank)</td>\n",
       "      <td>Home Related</td>\n",
       "      <td>2122.0</td>\n",
       "      <td>None</td>\n",
       "      <td>&lt; 1yr</td>\n",
       "      <td>3.0</td>\n",
       "      <td>None</td>\n",
       "      <td>2</td>\n",
       "      <td>1.0</td>\n",
       "      <td>39</td>\n",
       "      <td>Other Banks/Depts</td>\n",
       "      <td>1.0</td>\n",
       "      <td>More than 1</td>\n",
       "      <td>1.0</td>\n",
       "      <td>2.0</td>\n",
       "      <td>1.0</td>\n",
       "      <td>2.0</td>\n",
       "    </tr>\n",
       "    <tr>\n",
       "      <th>2</th>\n",
       "      <td>No Account</td>\n",
       "      <td>24.0</td>\n",
       "      <td>Paid Up</td>\n",
       "      <td>Home Related</td>\n",
       "      <td>3758.0</td>\n",
       "      <td>£100-£1000</td>\n",
       "      <td>&lt; 1yr</td>\n",
       "      <td>1.0</td>\n",
       "      <td>None</td>\n",
       "      <td>4</td>\n",
       "      <td>4.0</td>\n",
       "      <td>23</td>\n",
       "      <td>Other Banks/Depts</td>\n",
       "      <td>1.0</td>\n",
       "      <td>1</td>\n",
       "      <td>1.0</td>\n",
       "      <td>1.0</td>\n",
       "      <td>1.0</td>\n",
       "      <td>1.0</td>\n",
       "    </tr>\n",
       "    <tr>\n",
       "      <th>3</th>\n",
       "      <td>No Account</td>\n",
       "      <td>11.0</td>\n",
       "      <td>No Problems (in this bank)</td>\n",
       "      <td>Home Related</td>\n",
       "      <td>3905.0</td>\n",
       "      <td>None</td>\n",
       "      <td>&lt; 1yr</td>\n",
       "      <td>2.0</td>\n",
       "      <td>None</td>\n",
       "      <td>2</td>\n",
       "      <td>1.0</td>\n",
       "      <td>36</td>\n",
       "      <td>Other Banks/Depts</td>\n",
       "      <td>1.0</td>\n",
       "      <td>More than 1</td>\n",
       "      <td>1.0</td>\n",
       "      <td>2.0</td>\n",
       "      <td>1.0</td>\n",
       "      <td>1.0</td>\n",
       "    </tr>\n",
       "    <tr>\n",
       "      <th>4</th>\n",
       "      <td>No Account</td>\n",
       "      <td>6.0</td>\n",
       "      <td>No Problems (in this bank)</td>\n",
       "      <td>Home Related</td>\n",
       "      <td>1957.0</td>\n",
       "      <td>None</td>\n",
       "      <td>1-4 yrs</td>\n",
       "      <td>1.0</td>\n",
       "      <td>None</td>\n",
       "      <td>4</td>\n",
       "      <td>3.0</td>\n",
       "      <td>31</td>\n",
       "      <td>Other Banks/Depts</td>\n",
       "      <td>2.0</td>\n",
       "      <td>1</td>\n",
       "      <td>1.0</td>\n",
       "      <td>1.0</td>\n",
       "      <td>1.0</td>\n",
       "      <td>1.0</td>\n",
       "    </tr>\n",
       "  </tbody>\n",
       "</table>\n",
       "</div>"
      ],
      "text/plain": [
       "  Account-Balance  Duration-of-Credit-Month Payment-Status-of-Previous-Credit  \\\n",
       "0      No Account                       9.0        No Problems (in this bank)   \n",
       "1      No Account                      12.0        No Problems (in this bank)   \n",
       "2      No Account                      24.0                           Paid Up   \n",
       "3      No Account                      11.0        No Problems (in this bank)   \n",
       "4      No Account                       6.0        No Problems (in this bank)   \n",
       "\n",
       "        Purpose  Credit-Amount Value-Savings-Stocks  \\\n",
       "0  Home Related         2799.0                 None   \n",
       "1  Home Related         2122.0                 None   \n",
       "2  Home Related         3758.0           £100-£1000   \n",
       "3  Home Related         3905.0                 None   \n",
       "4  Home Related         1957.0                 None   \n",
       "\n",
       "  Length-of-current-employment  Instalment-per-cent Guarantors  \\\n",
       "0                        < 1yr                  2.0       None   \n",
       "1                        < 1yr                  3.0       None   \n",
       "2                        < 1yr                  1.0       None   \n",
       "3                        < 1yr                  2.0       None   \n",
       "4                      1-4 yrs                  1.0       None   \n",
       "\n",
       "   Duration-in-Current-address  Most-valuable-available-asset  Age-years  \\\n",
       "0                            2                            1.0         36   \n",
       "1                            2                            1.0         39   \n",
       "2                            4                            4.0         23   \n",
       "3                            2                            1.0         36   \n",
       "4                            4                            3.0         31   \n",
       "\n",
       "  Concurrent-Credits  Type-of-apartment No-of-Credits-at-this-Bank  \\\n",
       "0  Other Banks/Depts                1.0                More than 1   \n",
       "1  Other Banks/Depts                1.0                More than 1   \n",
       "2  Other Banks/Depts                1.0                          1   \n",
       "3  Other Banks/Depts                1.0                More than 1   \n",
       "4  Other Banks/Depts                2.0                          1   \n",
       "\n",
       "   Occupation  No-of-dependents  Telephone  Foreign-Worker  \n",
       "0         1.0               2.0        1.0             1.0  \n",
       "1         1.0               2.0        1.0             2.0  \n",
       "2         1.0               1.0        1.0             1.0  \n",
       "3         1.0               2.0        1.0             1.0  \n",
       "4         1.0               1.0        1.0             1.0  "
      ]
     },
     "execution_count": 159,
     "metadata": {},
     "output_type": "execute_result"
    }
   ],
   "source": [
    "test.head()"
   ]
  },
  {
   "cell_type": "code",
   "execution_count": 160,
   "metadata": {},
   "outputs": [
    {
     "data": {
      "text/html": [
       "<div>\n",
       "<style scoped>\n",
       "    .dataframe tbody tr th:only-of-type {\n",
       "        vertical-align: middle;\n",
       "    }\n",
       "\n",
       "    .dataframe tbody tr th {\n",
       "        vertical-align: top;\n",
       "    }\n",
       "\n",
       "    .dataframe thead th {\n",
       "        text-align: right;\n",
       "    }\n",
       "</style>\n",
       "<table border=\"1\" class=\"dataframe\">\n",
       "  <thead>\n",
       "    <tr style=\"text-align: right;\">\n",
       "      <th></th>\n",
       "      <th>Account-Balance</th>\n",
       "      <th>Duration-of-Credit-Month</th>\n",
       "      <th>Payment-Status-of-Previous-Credit</th>\n",
       "      <th>Purpose</th>\n",
       "      <th>Credit-Amount</th>\n",
       "      <th>Value-Savings-Stocks</th>\n",
       "      <th>Length-of-current-employment</th>\n",
       "      <th>Instalment-per-cent</th>\n",
       "      <th>Most-valuable-available-asset</th>\n",
       "      <th>Age-years</th>\n",
       "      <th>Type-of-apartment</th>\n",
       "      <th>No-of-Credits-at-this-Bank</th>\n",
       "    </tr>\n",
       "  </thead>\n",
       "  <tbody>\n",
       "    <tr>\n",
       "      <th>0</th>\n",
       "      <td>No Account</td>\n",
       "      <td>9.0</td>\n",
       "      <td>No Problems (in this bank)</td>\n",
       "      <td>Home Related</td>\n",
       "      <td>2799.0</td>\n",
       "      <td>None</td>\n",
       "      <td>&lt; 1yr</td>\n",
       "      <td>2.0</td>\n",
       "      <td>1.0</td>\n",
       "      <td>36</td>\n",
       "      <td>1.0</td>\n",
       "      <td>More than 1</td>\n",
       "    </tr>\n",
       "    <tr>\n",
       "      <th>1</th>\n",
       "      <td>No Account</td>\n",
       "      <td>12.0</td>\n",
       "      <td>No Problems (in this bank)</td>\n",
       "      <td>Home Related</td>\n",
       "      <td>2122.0</td>\n",
       "      <td>None</td>\n",
       "      <td>&lt; 1yr</td>\n",
       "      <td>3.0</td>\n",
       "      <td>1.0</td>\n",
       "      <td>39</td>\n",
       "      <td>1.0</td>\n",
       "      <td>More than 1</td>\n",
       "    </tr>\n",
       "    <tr>\n",
       "      <th>2</th>\n",
       "      <td>No Account</td>\n",
       "      <td>24.0</td>\n",
       "      <td>Paid Up</td>\n",
       "      <td>Home Related</td>\n",
       "      <td>3758.0</td>\n",
       "      <td>£100-£1000</td>\n",
       "      <td>&lt; 1yr</td>\n",
       "      <td>1.0</td>\n",
       "      <td>4.0</td>\n",
       "      <td>23</td>\n",
       "      <td>1.0</td>\n",
       "      <td>1</td>\n",
       "    </tr>\n",
       "  </tbody>\n",
       "</table>\n",
       "</div>"
      ],
      "text/plain": [
       "  Account-Balance  Duration-of-Credit-Month Payment-Status-of-Previous-Credit  \\\n",
       "0      No Account                       9.0        No Problems (in this bank)   \n",
       "1      No Account                      12.0        No Problems (in this bank)   \n",
       "2      No Account                      24.0                           Paid Up   \n",
       "\n",
       "        Purpose  Credit-Amount Value-Savings-Stocks  \\\n",
       "0  Home Related         2799.0                 None   \n",
       "1  Home Related         2122.0                 None   \n",
       "2  Home Related         3758.0           £100-£1000   \n",
       "\n",
       "  Length-of-current-employment  Instalment-per-cent  \\\n",
       "0                        < 1yr                  2.0   \n",
       "1                        < 1yr                  3.0   \n",
       "2                        < 1yr                  1.0   \n",
       "\n",
       "   Most-valuable-available-asset  Age-years  Type-of-apartment  \\\n",
       "0                            1.0         36                1.0   \n",
       "1                            1.0         39                1.0   \n",
       "2                            4.0         23                1.0   \n",
       "\n",
       "  No-of-Credits-at-this-Bank  \n",
       "0                More than 1  \n",
       "1                More than 1  \n",
       "2                          1  "
      ]
     },
     "execution_count": 160,
     "metadata": {},
     "output_type": "execute_result"
    }
   ],
   "source": [
    "test=test.drop(['Duration-in-Current-address'],1)\n",
    "test['Age-years']=test['Age-years'].fillna(test['Age-years'].median())\n",
    "test=test.drop(['Guarantors','Concurrent-Credits','No-of-dependents','Occupation','Foreign-Worker'], axis=1)\n",
    "test=test.drop(['Telephone'],axis=1)\n",
    "test.head(3)"
   ]
  },
  {
   "cell_type": "code",
   "execution_count": 161,
   "metadata": {},
   "outputs": [],
   "source": [
    "test['Purpose']=test['Purpose'].astype(\"category\")\n",
    "test['Purpose']=test['Purpose'].cat.codes"
   ]
  },
  {
   "cell_type": "code",
   "execution_count": 162,
   "metadata": {},
   "outputs": [],
   "source": [
    "test=pd.get_dummies(data=test, columns=['Account-Balance','Payment-Status-of-Previous-Credit','Value-Savings-Stocks','Length-of-current-employment','No-of-Credits-at-this-Bank'])"
   ]
  },
  {
   "cell_type": "code",
   "execution_count": 163,
   "metadata": {},
   "outputs": [],
   "source": [
    "X_prediction=test.values"
   ]
  },
  {
   "cell_type": "code",
   "execution_count": 164,
   "metadata": {},
   "outputs": [],
   "source": [
    "LogRegPredict=LogReg.predict(X_prediction)"
   ]
  },
  {
   "cell_type": "code",
   "execution_count": 165,
   "metadata": {},
   "outputs": [
    {
     "name": "stdout",
     "output_type": "stream",
     "text": [
      "Logistic Regression Prediction: \n",
      "\n",
      "The Number of Credit Worthy is:  416\n",
      "The Number of Non-Credit Worthy is:  84\n"
     ]
    }
   ],
   "source": [
    "condition1=LogRegPredict==1\n",
    "condition2=LogRegPredict==2\n",
    "print (\"Logistic Regression Prediction: \\n\")\n",
    "print (\"The Number of Credit Worthy is: \",condition1.sum() )\n",
    "print (\"The Number of Non-Credit Worthy is: \",condition2.sum() )"
   ]
  },
  {
   "cell_type": "code",
   "execution_count": 166,
   "metadata": {},
   "outputs": [],
   "source": [
    "DecisionTreePredict=DecisionTree.predict(X_prediction)"
   ]
  },
  {
   "cell_type": "code",
   "execution_count": 167,
   "metadata": {},
   "outputs": [
    {
     "name": "stdout",
     "output_type": "stream",
     "text": [
      "Logistic Regression Prediction: \n",
      "\n",
      "The Number of Credit Worthy is:  358\n",
      "The Number of Non-Credit Worthy is:  142\n"
     ]
    }
   ],
   "source": [
    "condition1=DecisionTreePredict==1\n",
    "condition2=DecisionTreePredict==2\n",
    "print (\"Logistic Regression Prediction: \\n\")\n",
    "print (\"The Number of Credit Worthy is: \",condition1.sum() )\n",
    "print (\"The Number of Non-Credit Worthy is: \",condition2.sum() )"
   ]
  },
  {
   "cell_type": "code",
   "execution_count": 168,
   "metadata": {},
   "outputs": [],
   "source": [
    "ForestPredict=Forest.predict(X_prediction)"
   ]
  },
  {
   "cell_type": "code",
   "execution_count": 169,
   "metadata": {},
   "outputs": [
    {
     "name": "stdout",
     "output_type": "stream",
     "text": [
      "Logistic Regression Prediction: \n",
      "\n",
      "The Number of Credit Worthy is:  420\n",
      "The Number of Non-Credit Worthy is:  80\n"
     ]
    }
   ],
   "source": [
    "condition1=ForestPredict==1\n",
    "condition2=ForestPredict==2\n",
    "print (\"Logistic Regression Prediction: \\n\")\n",
    "print (\"The Number of Credit Worthy is: \",condition1.sum() )\n",
    "print (\"The Number of Non-Credit Worthy is: \",condition2.sum() )"
   ]
  },
  {
   "cell_type": "code",
   "execution_count": 170,
   "metadata": {},
   "outputs": [],
   "source": [
    "BoostedPredict=Boosted.predict(X_prediction)"
   ]
  },
  {
   "cell_type": "code",
   "execution_count": 171,
   "metadata": {},
   "outputs": [
    {
     "name": "stdout",
     "output_type": "stream",
     "text": [
      "Logistic Regression Prediction: \n",
      "\n",
      "The Number of Credit Worthy is:  400\n",
      "The Number of Non-Credit Worthy is:  100\n"
     ]
    }
   ],
   "source": [
    "condition1=BoostedPredict==1\n",
    "condition2=BoostedPredict==2\n",
    "print (\"Logistic Regression Prediction: \\n\")\n",
    "print (\"The Number of Credit Worthy is: \",condition1.sum() )\n",
    "print (\"The Number of Non-Credit Worthy is: \",condition2.sum() )"
   ]
  }
 ],
 "metadata": {
  "kernelspec": {
   "display_name": "Python 3",
   "language": "python",
   "name": "python3"
  },
  "language_info": {
   "codemirror_mode": {
    "name": "ipython",
    "version": 3
   },
   "file_extension": ".py",
   "mimetype": "text/x-python",
   "name": "python",
   "nbconvert_exporter": "python",
   "pygments_lexer": "ipython3",
   "version": "3.7.4"
  }
 },
 "nbformat": 4,
 "nbformat_minor": 2
}
